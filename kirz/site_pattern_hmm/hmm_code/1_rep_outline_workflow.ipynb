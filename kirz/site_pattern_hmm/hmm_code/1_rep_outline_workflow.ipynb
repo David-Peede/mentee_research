{
 "cells": [
  {
   "cell_type": "markdown",
   "id": "500b0181-0648-40fd-9f0a-e2f8ae1b0cc9",
   "metadata": {},
   "source": [
    "# Running a Hidden Markov Model with the Baum-Welch Algorithm on Simulated Ancestral Data"
   ]
  },
  {
   "cell_type": "markdown",
   "id": "da6b85fb-9cca-45c4-a801-2b4e4e504cab",
   "metadata": {},
   "source": [
    "---\n",
    "## Purpose of Guide\n",
    "Using simulated genomic data of human populations, this Hidden Markov Model infers the likelihood of introgression from an archaic population at each locus on a simulated genome. It further uses the Baum-Welch Algorithm to optimize this detection.\n",
    "In this guide, I'll walk through how to run my HMM from start to finish on a single pre-generated rep id."
   ]
  },
  {
   "cell_type": "code",
   "execution_count": 8,
   "id": "ca41abf7-f7c1-4119-b4ec-1b73bb91f0aa",
   "metadata": {},
   "outputs": [
    {
     "ename": "AttributeError",
     "evalue": "module 'sys' has no attribute '__version__'",
     "output_type": "error",
     "traceback": [
      "\u001b[0;31m---------------------------------------------------------------------------\u001b[0m",
      "\u001b[0;31mAttributeError\u001b[0m                            Traceback (most recent call last)",
      "Input \u001b[0;32mIn [8]\u001b[0m, in \u001b[0;36m<cell line: 7>\u001b[0;34m()\u001b[0m\n\u001b[1;32m      4\u001b[0m \u001b[38;5;28;01mimport\u001b[39;00m \u001b[38;5;21;01mtime\u001b[39;00m\n\u001b[1;32m      6\u001b[0m \u001b[38;5;66;03m# Print versions of our libraries.\u001b[39;00m\n\u001b[0;32m----> 7\u001b[0m \u001b[38;5;28mprint\u001b[39m(\u001b[38;5;124m'\u001b[39m\u001b[38;5;124msys\u001b[39m\u001b[38;5;124m'\u001b[39m, \u001b[43msys\u001b[49m\u001b[38;5;241;43m.\u001b[39;49m\u001b[43m__version__\u001b[49m)\n\u001b[1;32m      8\u001b[0m \u001b[38;5;28mprint\u001b[39m(\u001b[38;5;124m'\u001b[39m\u001b[38;5;124mnumpy\u001b[39m\u001b[38;5;124m'\u001b[39m, np\u001b[38;5;241m.\u001b[39m__version__)\n\u001b[1;32m      9\u001b[0m \u001b[38;5;28mprint\u001b[39m(\u001b[38;5;124m'\u001b[39m\u001b[38;5;124mtime\u001b[39m\u001b[38;5;124m'\u001b[39m, time\u001b[38;5;241m.\u001b[39m__version__)\n",
      "\u001b[0;31mAttributeError\u001b[0m: module 'sys' has no attribute '__version__'"
     ]
    }
   ],
   "source": [
    "# Import packages.\n",
    "import sys\n",
    "import numpy as np\n",
    "import time\n",
    "\n",
    "# Print versions of our libraries.\n",
    "print('sys', sys.__version__)\n",
    "print('numpy', np.__version__)\n",
    "print('time', time.__version__)"
   ]
  },
  {
   "cell_type": "markdown",
   "id": "8e41d884-0ec3-4a89-b8a7-357dc3a438b3",
   "metadata": {},
   "source": [
    "## Functions"
   ]
  },
  {
   "cell_type": "markdown",
   "id": "b26ffa8b-63e8-49b6-b7a5-380a0db27b66",
   "metadata": {},
   "source": [
    "---\n",
    "### `genotype_matrix_windows()`\n",
    "#### Purpose:\n",
    "`genotype_matrix_windows()` is a helper function that splits a genotype matrix into non-overlapping windows and assigns positions that are variable across populations to a window according to their position. By default, the length of the simulated genome is 20 million base pairs. Each window is 500 base pairs long, with inclusive/exclusive bounds (ex. [0,500]). This results in 40,000 windows ranging from [0, 20,000,000].\n",
    "#### Input:\n",
    "- `variant_positions`: an array of the positions of variant sites across populations. Each index represents a separate variant (ordered by relative position but not evenly spaced), and its corresponding cell value represents the location of that variant position on the genome.\n",
    "- `polarized_genotype_matrix`: an array of multiple populations. It includes the ancestral population whose introgression is being inferred (Neanderthals), the population in whom introgression is being tested (Europeans), one or more sister populations to the one being tested, as a control (Africans), and an \"ancestral state\" reference population against which the rest can be polarized (Chimpanzee). Only biallelic sites are included. The ancestral allele and all identical populations are represented by '0' while the derived mutated allele is represented by '1'.\n",
    "- `window_size` The size of each window here is set to 500 by default. In Prufer's 2014 paper, the team used a genetic map, with crossover positions. We will map the genetic position by relative physical location on the chromosome \\[0 to 20,000,000).\n",
    "- `sequence_length`: the length of the simulated genome being tested. Set to 20,000,000 by default.\n",
    "\n",
    "#### Output:\n",
    "`windows` (dictionary). It has the following key ==> value relationship:\n",
    "\n",
    "*Window number (from 1 to 40,000) => [window start position, window end position, index of variant position in the input array].*\n",
    "\n",
    "Types are:\n",
    "`int => array[int, int, int...]`\n",
    "\n",
    "If there are multiple variant positions within a window, their indices in the input array of variant positions are appended to the value array."
   ]
  },
  {
   "cell_type": "code",
   "execution_count": 31,
   "id": "0765f206-5ce0-4fc1-a2e9-795919e0400d",
   "metadata": {},
   "outputs": [],
   "source": [
    "def genotype_matrix_windows(\n",
    "        variant_positions,\n",
    "        polarized_genotype_matrix,\n",
    "        window_size=500,\n",
    "        sequence_length=20_000_000,\n",
    "):\n",
    "    # Intialize a dictionary with the start and stop position for each window.\n",
    "    windows = {}\n",
    "    index = 1\n",
    "    # Create consistent-length windows spanning the length of the sequence\n",
    "    for window_start in range(0, int(sequence_length), int(window_size)):\n",
    "        # The index (window number) is set as the key to a value of an array which contains its start and stop position\n",
    "        windows[index] = [window_start, (window_start + window_size)]\n",
    "        index += 1\n",
    "    # Locate and assign each variant position to its respective window\n",
    "    # keeps track of index number in the variant_position array\n",
    "    index = 0\n",
    "    pos = variant_positions[index]\n",
    "    for key in windows:\n",
    "        # extract the window bounds\n",
    "        start, stop = windows[key]\n",
    "        # \"bin\" the variant a the window if it is within bounds\n",
    "        while start <= pos < stop:\n",
    "            # append the index of the variant position to the corresponding value array in windows\n",
    "            windows[key].append(index)\n",
    "            index += 1\n",
    "            if index < len(variant_positions):\n",
    "                pos = variant_positions[index]\n",
    "            else: # (all variant positions have been binned)\n",
    "                break\n",
    "    # window # (1-40,000) -> [0 (start), 500 (stop), index of local variable positions (if any)]\n",
    "    return windows"
   ]
  },
  {
   "cell_type": "markdown",
   "id": "b0bd99a3-4703-4391-87bc-acd3079f7330",
   "metadata": {},
   "source": [
    "---\n",
    "### `calc_window_intro_percent()`\n",
    "#### Purpose:\n",
    "`calc_window_intro_percent()` stores the locations of genomic regions that are a result of the archaic population introgression that the HMM will infer. Known as \"true introgression positions,\" these segments represent the hidden states of the HMM. In practice, the exact loci in modern human DNA that are a result of Neanderthal introgression cannot be known, so in order to evaluate the model's efficacy and compare its performance, we record the true introgression positions during data simulation to create an \"answer key\".\n",
    "\n",
    "To this end, this function creates a dictionary of windows similar to the one created by `genotype_matrix_windows()`, but instead of recording the bounds and variant positions of each window, it represents how much each window is covered by a segment of \"true introgression\" as a percentage value. The data structure allows the quick identification of areas of true introgression in the genome, which allows the HMM's accuracy to be evaluated.\n",
    "\n",
    "#### Input:\n",
    "- `Binned_windows`: a dictionary where the keys represent the iwndow number from 1 to 40,000 and the values are arrays where the first two elements represent positional boundaries, and any following elements represent the index of variant positions that lie within that window in the `variant_positions` array. Binned_windows is the direct output of `genotype_matrix_windows`.\n",
    "- `true_introgression_positions`: nparray representing the locations of introgressed loci on the genome. Each row represents a different introgressed segment. The first column represents its starting location, and the second column represents its stopping location.\n",
    "\n",
    "#### Output:\n",
    "- `Win_intro_percent`: a dictionary of 500 base pair bins and their contents included to keep track of the true introgression state windows. The key is the window number and the value is a float percentage between 0 and 1 of how much of the window is covered by the true introgression segment."
   ]
  },
  {
   "cell_type": "code",
   "execution_count": 35,
   "id": "52b99e7a-81c0-49ca-b97a-5d525953ae0f",
   "metadata": {},
   "outputs": [],
   "source": [
    "def calc_window_intro_percent(Binned_windows, true_introgression_positions):\n",
    "\n",
    "    Windows = Binned_windows\n",
    "    true_intro_pos = true_introgression_positions\n",
    "    \n",
    "    # Initializing dictionary of Window Introgression Percentages\n",
    "    Win_intro_percent = {}\n",
    "    # Extract the columns into numpy arrays and round.\n",
    "    # Sorting makes iterating easier. Not changing any start positions. intro_starts is 'official' starting position\n",
    "    intro_starts = np.sort(np.round(true_intro_pos[:, 0]))\n",
    "    intro_stops = np.sort(np.round(true_intro_pos[:, 1]))\n",
    "    intro_sizes = np.sort(intro_stops - intro_starts)\n",
    "\n",
    "    # The index of the true introgression segment in start/stop/sizes\n",
    "    intro_index = 0\n",
    "    for key in Windows:\n",
    "        # if intro_index is the same as the number of true introgressed segments, we can end and assign the rest 0\n",
    "        if intro_index == intro_sizes.shape[0]:\n",
    "            Win_intro_percent[key] = 0.\n",
    "        else:\n",
    "            # Tracking indices\n",
    "            # integer starting and ending positions of the true introgressed segments\n",
    "            curr_start = int(intro_starts[intro_index])\n",
    "            curr_stop = int(intro_stops[intro_index])\n",
    "            # integer offset of curr_start and curr_stop from most recent window\n",
    "            curr_start_mod = int(intro_starts[intro_index] % 500)\n",
    "            curr_stop_mod = int(intro_stops[intro_index] % 500)\n",
    "            # current window that contains the beginning or end of the current segment\n",
    "            curr_start_window = int(((curr_start - curr_start_mod) / 500) + 1)\n",
    "            curr_stop_window = int(((curr_stop - curr_stop_mod) / 500) + 1)\n",
    "            # boolean that tracks whether the segment falls completely within a window (exception)\n",
    "            tiny_intro = curr_stop - curr_start < 500\n",
    "            # skips windows that come before the current start window\n",
    "            if key < curr_start_window:\n",
    "                Win_intro_percent[key] = 0.\n",
    "            elif key == curr_start_window:\n",
    "                # If the introgressed segment is less than 500, we need to do a special case to find the percentage\n",
    "                if tiny_intro:\n",
    "                    Win_intro_percent[key] = (curr_stop - curr_start) / 500\n",
    "                    # since this counts as a whole segment, we have to tick the index to seach for the next segment\n",
    "                    intro_index += 1\n",
    "                else:  # normal case, the true introgressed segment is over 500 base pairs long\n",
    "                    # calculates the % of the window that is covered by the segment from curr_start to the window's end\n",
    "                    Win_intro_percent[key] = (Windows[key][1] - curr_start) / 500\n",
    "            # In the middle of the introgressed segment, so each window is 100% covered\n",
    "            elif curr_start_window < key < curr_stop_window:\n",
    "                Win_intro_percent[key] = 1.\n",
    "            # In the last window containing the segment. It should be partially introgressed.\n",
    "            elif key == curr_stop_window:\n",
    "                # calculates the % of the window that is covered by the segment from the window's start to curr_stop\n",
    "                Win_intro_percent[key] = (curr_stop - Windows[key][0]) / 500\n",
    "                # since we found the stop window of a large segment, we can move onto the next segment, if any\n",
    "                intro_index += 1\n",
    "                # check to make sure that we record the same number of windows as there are segments\n",
    "                if intro_index > intro_sizes.shape[0]:\n",
    "                    print(\"ERROR: Recorded more windows than there are segments\")\n",
    "                    break\n",
    "            else:  # Error check\n",
    "                print(\"----------------------\")\n",
    "                print(\"ERROR: bug in key iteration for calculation of introgression percentages\")\n",
    "                print(\"----------------------\")\n",
    "                break\n",
    "\n",
    "    return Win_intro_percent"
   ]
  },
  {
   "cell_type": "markdown",
   "id": "89443058-b35a-41f2-9ba2-7fc5380c5f49",
   "metadata": {},
   "source": [
    "### `logsum()`\n",
    "#### Purpose: \n",
    "`logsum()` takes the numpy builtin function `numpy.logaddexp()` and makes it applicable to multidimensional arrays. `numpy.logaddexp()` is used to calculate the logarithm of the sum of exponentiations of the inputs. This is useful in statistical methodologies where the calculated probabilites of events become so small they exceed the range of floating point numbers and the computer loses information by rounding them to zero.\n",
    "\n",
    "In this model, some derived values can be smaller than 1*10^-130.\n",
    "\n",
    "In cases like these,  calculation values are stored as the logarithm of the true probability. `logaddexp()` allows such probabilities to be added, as in the format `log(exp(arr1) + exp(arr2))`. \n",
    "\n",
    "`logsum()` is a more flexible version which can take in multidimensional arrays as valid input by stringing all data into a one-dimensional array by appending rows one after another. `logaddexp()` only typically works on a 1-dimensional array `[1, 2, 3, 4]`, but `logsum()` accounts for the case of multiple dimensions by converting the input `[[1, 2], [3, 4]]` into `[1, 2, 3, 4]` before calling `logaddexp()`.\n",
    "\n",
    "#### Input:\n",
    "- array: an arra\n",
    "#### Output:"
   ]
  },
  {
   "cell_type": "code",
   "execution_count": 45,
   "id": "267dee17-79ba-4f6b-9a6e-cc6909548edd",
   "metadata": {},
   "outputs": [
    {
     "data": {
      "text/plain": [
       "array([0., 1., 2., 3.])"
      ]
     },
     "execution_count": 45,
     "metadata": {},
     "output_type": "execute_result"
    }
   ],
   "source": [
    "array = np.zeros((2, 2))\n",
    "\n",
    "array[0][1] = 1\n",
    "array[1][0] = 2\n",
    "array[1][1] = 3\n",
    "\n",
    "np.reshape(array, np.product(array.shape))\n",
    "# np.reshape(array, (np.product(array.shape),))\n",
    "# array"
   ]
  },
  {
   "cell_type": "markdown",
   "id": "b840b9c7-cf2c-4bb1-8d29-f0e7d0c3e2fa",
   "metadata": {},
   "source": [
    "### `genotype_matrix_windows`"
   ]
  },
  {
   "cell_type": "markdown",
   "id": "a77e2ae9-18eb-48bd-ad2d-b2d6bdd0be23",
   "metadata": {},
   "source": [
    "### `calc_alpha`"
   ]
  },
  {
   "cell_type": "markdown",
   "id": "896243e8-c11a-46b1-903d-c525dcb627f0",
   "metadata": {},
   "source": [
    "### `calc_beta`"
   ]
  },
  {
   "cell_type": "markdown",
   "id": "1d231774-b0af-4eb4-af7f-9bbbc9489472",
   "metadata": {},
   "source": [
    "### `calc_xi`"
   ]
  },
  {
   "cell_type": "code",
   "execution_count": 15,
   "id": "7d860143-3e95-4c9a-ae93-795d9ff24968",
   "metadata": {},
   "outputs": [],
   "source": [
    "### calc_gamma"
   ]
  },
  {
   "cell_type": "code",
   "execution_count": 16,
   "id": "9d0d777d-5c40-4d4b-9a3f-dbd09b44ff6a",
   "metadata": {},
   "outputs": [],
   "source": [
    "### `update_A`"
   ]
  },
  {
   "cell_type": "code",
   "execution_count": null,
   "id": "3605e260-de3c-4099-84f6-da0589b8e8ee",
   "metadata": {},
   "outputs": [],
   "source": [
    "### `update_B`"
   ]
  },
  {
   "cell_type": "code",
   "execution_count": 17,
   "id": "313c166a-0445-48ff-8f45-bbd0e44879e3",
   "metadata": {},
   "outputs": [],
   "source": [
    "### `update_pi`"
   ]
  },
  {
   "cell_type": "code",
   "execution_count": 18,
   "id": "272e3fe5-29c8-4a97-8c92-0098f61aae47",
   "metadata": {},
   "outputs": [],
   "source": [
    "### `hmm`"
   ]
  },
  {
   "cell_type": "code",
   "execution_count": 19,
   "id": "f7ca5737-bc4e-4979-a690-049b8c3ce26f",
   "metadata": {},
   "outputs": [],
   "source": [
    "### `eval_accuracy`"
   ]
  },
  {
   "cell_type": "code",
   "execution_count": 20,
   "id": "b2affebf-4e6e-4393-b7e5-5144c4576c31",
   "metadata": {},
   "outputs": [],
   "source": [
    "### `viterbi`"
   ]
  },
  {
   "cell_type": "code",
   "execution_count": 21,
   "id": "190000c5-9fdd-4ae3-9110-ebdb12cc31ea",
   "metadata": {},
   "outputs": [],
   "source": [
    "### `compute_logP`"
   ]
  },
  {
   "cell_type": "code",
   "execution_count": 22,
   "id": "75e730a4-1eb0-4cac-9930-95e10ccca7e0",
   "metadata": {},
   "outputs": [],
   "source": [
    "### `print_results`"
   ]
  },
  {
   "cell_type": "code",
   "execution_count": 23,
   "id": "66ce2349-421f-4202-8f7a-5d6133785e9c",
   "metadata": {},
   "outputs": [],
   "source": [
    "### `logsum`"
   ]
  },
  {
   "cell_type": "code",
   "execution_count": 24,
   "id": "e18eec63-4342-4658-9982-8fce17e30c4d",
   "metadata": {},
   "outputs": [],
   "source": [
    "### `exp_logsum`"
   ]
  },
  {
   "cell_type": "code",
   "execution_count": 25,
   "id": "bb7b4b6c-3cfc-45ea-9bb7-14ca80488669",
   "metadata": {},
   "outputs": [],
   "source": [
    "### `compare_3`"
   ]
  },
  {
   "cell_type": "code",
   "execution_count": null,
   "id": "5f50c930-c471-4c48-b0f1-62a251680ee0",
   "metadata": {},
   "outputs": [],
   "source": [
    "### `display_performances"
   ]
  },
  {
   "cell_type": "markdown",
   "id": "d956d0d3-da16-404e-aa8e-5032aee2635a",
   "metadata": {},
   "source": [
    "---\n",
    "## Example Workflow"
   ]
  },
  {
   "cell_type": "markdown",
   "id": "cb0becc5-9c04-44b2-b324-62c05603ee94",
   "metadata": {},
   "source": [
    "1) Explain types of simulated data\n",
    "2) Load in simulated data\n",
    "3) "
   ]
  },
  {
   "cell_type": "code",
   "execution_count": null,
   "id": "97133957-31d5-475d-a725-e74790e35360",
   "metadata": {},
   "outputs": [],
   "source": []
  },
  {
   "cell_type": "code",
   "execution_count": 32,
   "id": "96837c5b-faf4-41a5-9a4d-4be56ff5468c",
   "metadata": {},
   "outputs": [],
   "source": [
    "windows = 24"
   ]
  },
  {
   "cell_type": "code",
   "execution_count": null,
   "id": "a5d906ee-a73a-4897-8824-588bd61fcdbd",
   "metadata": {},
   "outputs": [],
   "source": []
  },
  {
   "cell_type": "code",
   "execution_count": 33,
   "id": "da463de3-3538-483b-8770-e05addeeb257",
   "metadata": {},
   "outputs": [
    {
     "data": {
      "text/plain": [
       "24"
      ]
     },
     "execution_count": 33,
     "metadata": {},
     "output_type": "execute_result"
    }
   ],
   "source": [
    "windows"
   ]
  },
  {
   "cell_type": "markdown",
   "id": "b1ec29a3-1ebb-485f-98ad-ef88da99842c",
   "metadata": {},
   "source": [
    "---\n",
    "### Workflow function\n",
    "\n",
    "#### Done step by step\n",
    "\n",
    "#### Once as a large function, compare its output to"
   ]
  },
  {
   "cell_type": "code",
   "execution_count": null,
   "id": "06db90e8-701d-44cb-a218-8d676a75b77f",
   "metadata": {},
   "outputs": [],
   "source": []
  }
 ],
 "metadata": {
  "kernelspec": {
   "display_name": "Python 3 (ipykernel)",
   "language": "python",
   "name": "python3"
  },
  "language_info": {
   "codemirror_mode": {
    "name": "ipython",
    "version": 3
   },
   "file_extension": ".py",
   "mimetype": "text/x-python",
   "name": "python",
   "nbconvert_exporter": "python",
   "pygments_lexer": "ipython3",
   "version": "3.9.10"
  }
 },
 "nbformat": 4,
 "nbformat_minor": 5
}
