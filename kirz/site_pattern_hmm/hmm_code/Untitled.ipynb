{
 "cells": [
  {
   "cell_type": "markdown",
   "id": "500b0181-0648-40fd-9f0a-e2f8ae1b0cc9",
   "metadata": {},
   "source": [
    "# Running a Hidden Markov Model with the Baum-Welch Algorithm on Simulated Ancestral Data"
   ]
  },
  {
   "cell_type": "markdown",
   "id": "da6b85fb-9cca-45c4-a801-2b4e4e504cab",
   "metadata": {},
   "source": [
    "In this "
   ]
  },
  {
   "cell_type": "code",
   "execution_count": 1,
   "id": "ca41abf7-f7c1-4119-b4ec-1b73bb91f0aa",
   "metadata": {},
   "outputs": [],
   "source": [
    "# Import packages.\n",
    "import demes\n",
    "import demesdraw\n",
    "from IPython.display import display, SVG\n",
    "from matplotlib import pyplot as plt\n",
    "import msprime\n",
    "import numpy as np\n",
    "import pandas as pd\n",
    "import tskit\n",
    "# Print versions of our libraries.\n",
    "print('demes', demes.__version__)\n",
    "print('demesdraw', demesdraw.__version__)\n",
    "print('msprime', msprime.__version__)\n",
    "print('tskit', tskit.__version__)"
   ]
  },
  {
   "cell_type": "code",
   "execution_count": 2,
   "id": "f989dedf-8cd2-4a5c-b828-31061683f2c5",
   "metadata": {},
   "outputs": [
    {
     "name": "stdout",
     "output_type": "stream",
     "text": [
      "Defaulting to user installation because normal site-packages is not writeable\n",
      "Collecting demesdraw\n",
      "  Using cached demesdraw-0.3.0-py3-none-any.whl (19 kB)\n",
      "Requirement already satisfied: numpy in /Applications/JupyterLab.app/Contents/Resources/jlab_server/lib/python3.8/site-packages (from demesdraw) (1.21.4)\n",
      "Collecting cvxpy\n",
      "  Using cached cvxpy-1.2.1-cp38-cp38-macosx_10_9_x86_64.whl (880 kB)\n",
      "Requirement already satisfied: demes>=0.2.0 in /Users/briankirz/.local/lib/python3.8/site-packages (from demesdraw) (0.2.2)\n",
      "Requirement already satisfied: matplotlib>=3.3.1 in /Applications/JupyterLab.app/Contents/Resources/jlab_server/lib/python3.8/site-packages (from demesdraw) (3.5.1)\n",
      "Requirement already satisfied: attrs>=20.3.0 in /Applications/JupyterLab.app/Contents/Resources/jlab_server/lib/python3.8/site-packages (from demes>=0.2.0->demesdraw) (21.2.0)\n",
      "Requirement already satisfied: ruamel.yaml>=0.15.78 in /Users/briankirz/.local/lib/python3.8/site-packages (from demes>=0.2.0->demesdraw) (0.17.21)\n",
      "Requirement already satisfied: packaging>=20.0 in /Applications/JupyterLab.app/Contents/Resources/jlab_server/lib/python3.8/site-packages (from matplotlib>=3.3.1->demesdraw) (21.3)\n",
      "Requirement already satisfied: fonttools>=4.22.0 in /Applications/JupyterLab.app/Contents/Resources/jlab_server/lib/python3.8/site-packages (from matplotlib>=3.3.1->demesdraw) (4.28.4)\n",
      "Requirement already satisfied: cycler>=0.10 in /Applications/JupyterLab.app/Contents/Resources/jlab_server/lib/python3.8/site-packages (from matplotlib>=3.3.1->demesdraw) (0.11.0)\n",
      "Requirement already satisfied: kiwisolver>=1.0.1 in /Applications/JupyterLab.app/Contents/Resources/jlab_server/lib/python3.8/site-packages (from matplotlib>=3.3.1->demesdraw) (1.3.2)\n",
      "Requirement already satisfied: pyparsing>=2.2.1 in /Applications/JupyterLab.app/Contents/Resources/jlab_server/lib/python3.8/site-packages (from matplotlib>=3.3.1->demesdraw) (3.0.6)\n",
      "Requirement already satisfied: python-dateutil>=2.7 in /Applications/JupyterLab.app/Contents/Resources/jlab_server/lib/python3.8/site-packages (from matplotlib>=3.3.1->demesdraw) (2.8.2)\n",
      "Requirement already satisfied: pillow>=6.2.0 in /Applications/JupyterLab.app/Contents/Resources/jlab_server/lib/python3.8/site-packages (from matplotlib>=3.3.1->demesdraw) (8.4.0)\n",
      "Collecting osqp>=0.4.1\n",
      "  Using cached osqp-0.6.2.post5-cp38-cp38-macosx_10_9_x86_64.whl (249 kB)\n",
      "Collecting scs>=1.1.6\n",
      "  Using cached scs-3.2.0-cp38-cp38-macosx_10_9_x86_64.whl (11.4 MB)\n",
      "Collecting ecos>=2\n",
      "  Using cached ecos-2.0.10-cp38-cp38-macosx_10_9_x86_64.whl (88 kB)\n",
      "Requirement already satisfied: scipy>=1.1.0 in /Applications/JupyterLab.app/Contents/Resources/jlab_server/lib/python3.8/site-packages (from cvxpy->demesdraw) (1.7.3)\n",
      "Collecting qdldl\n",
      "  Using cached qdldl-0.1.5.post2-cp38-cp38-macosx_10_9_x86_64.whl (97 kB)\n",
      "Requirement already satisfied: six>=1.5 in /Applications/JupyterLab.app/Contents/Resources/jlab_server/lib/python3.8/site-packages (from python-dateutil>=2.7->matplotlib>=3.3.1->demesdraw) (1.16.0)\n",
      "Requirement already satisfied: ruamel.yaml.clib>=0.2.6 in /Users/briankirz/.local/lib/python3.8/site-packages (from ruamel.yaml>=0.15.78->demes>=0.2.0->demesdraw) (0.2.6)\n",
      "Installing collected packages: qdldl, scs, osqp, ecos, cvxpy, demesdraw\n",
      "\u001b[33m  WARNING: The script demesdraw is installed in '/Users/briankirz/.local/bin' which is not on PATH.\n",
      "  Consider adding this directory to PATH or, if you prefer to suppress this warning, use --no-warn-script-location.\u001b[0m\n",
      "Successfully installed cvxpy-1.2.1 demesdraw-0.3.0 ecos-2.0.10 osqp-0.6.2.post5 qdldl-0.1.5.post2 scs-3.2.0\n",
      "Note: you may need to restart the kernel to use updated packages.\n"
     ]
    }
   ],
   "source": [
    "%pip install demesdraw"
   ]
  },
  {
   "cell_type": "code",
   "execution_count": null,
   "id": "3f484989-a3ab-4c2b-bb49-57c8c7cb158a",
   "metadata": {},
   "outputs": [],
   "source": []
  }
 ],
 "metadata": {
  "kernelspec": {
   "display_name": "Python 3 (ipykernel)",
   "language": "python",
   "name": "python3"
  },
  "language_info": {
   "codemirror_mode": {
    "name": "ipython",
    "version": 3
   },
   "file_extension": ".py",
   "mimetype": "text/x-python",
   "name": "python",
   "nbconvert_exporter": "python",
   "pygments_lexer": "ipython3",
   "version": "3.9.10"
  }
 },
 "nbformat": 4,
 "nbformat_minor": 5
}
