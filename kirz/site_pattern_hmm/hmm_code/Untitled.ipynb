{
 "cells": [
  {
   "cell_type": "markdown",
   "id": "500b0181-0648-40fd-9f0a-e2f8ae1b0cc9",
   "metadata": {},
   "source": [
    "# Running a Hidden Markov Model with the Baum-Welch Algorithm on Simulated Ancestral Data"
   ]
  },
  {
   "cell_type": "markdown",
   "id": "da6b85fb-9cca-45c4-a801-2b4e4e504cab",
   "metadata": {},
   "source": [
    "In this guide, I'll walk through how to run my Hidden Markov Model from start to finish on a single pre-generated rep id."
   ]
  },
  {
   "cell_type": "code",
   "execution_count": 8,
   "id": "ca41abf7-f7c1-4119-b4ec-1b73bb91f0aa",
   "metadata": {},
   "outputs": [
    {
     "ename": "AttributeError",
     "evalue": "module 'sys' has no attribute '__version__'",
     "output_type": "error",
     "traceback": [
      "\u001b[0;31m---------------------------------------------------------------------------\u001b[0m",
      "\u001b[0;31mAttributeError\u001b[0m                            Traceback (most recent call last)",
      "Input \u001b[0;32mIn [8]\u001b[0m, in \u001b[0;36m<cell line: 7>\u001b[0;34m()\u001b[0m\n\u001b[1;32m      4\u001b[0m \u001b[38;5;28;01mimport\u001b[39;00m \u001b[38;5;21;01mtime\u001b[39;00m\n\u001b[1;32m      6\u001b[0m \u001b[38;5;66;03m# Print versions of our libraries.\u001b[39;00m\n\u001b[0;32m----> 7\u001b[0m \u001b[38;5;28mprint\u001b[39m(\u001b[38;5;124m'\u001b[39m\u001b[38;5;124msys\u001b[39m\u001b[38;5;124m'\u001b[39m, \u001b[43msys\u001b[49m\u001b[38;5;241;43m.\u001b[39;49m\u001b[43m__version__\u001b[49m)\n\u001b[1;32m      8\u001b[0m \u001b[38;5;28mprint\u001b[39m(\u001b[38;5;124m'\u001b[39m\u001b[38;5;124mnumpy\u001b[39m\u001b[38;5;124m'\u001b[39m, np\u001b[38;5;241m.\u001b[39m__version__)\n\u001b[1;32m      9\u001b[0m \u001b[38;5;28mprint\u001b[39m(\u001b[38;5;124m'\u001b[39m\u001b[38;5;124mtime\u001b[39m\u001b[38;5;124m'\u001b[39m, time\u001b[38;5;241m.\u001b[39m__version__)\n",
      "\u001b[0;31mAttributeError\u001b[0m: module 'sys' has no attribute '__version__'"
     ]
    }
   ],
   "source": [
    "# Import packages.\n",
    "import sys\n",
    "import numpy as np\n",
    "import time\n",
    "\n",
    "# Print versions of our libraries.\n",
    "print('sys', sys.__version__)\n",
    "print('numpy', np.__version__)\n",
    "print('time', time.__version__)"
   ]
  },
  {
   "cell_type": "markdown",
   "id": "8e41d884-0ec3-4a89-b8a7-357dc3a438b3",
   "metadata": {},
   "source": [
    "## Functions"
   ]
  },
  {
   "cell_type": "markdown",
   "id": "2d2c5787-2939-4e8c-85c5-306119f420ef",
   "metadata": {},
   "source": [
    "### `extract_O`"
   ]
  },
  {
   "cell_type": "markdown",
   "id": "5e5ca1a5-75f6-48e8-925c-123e546edb1d",
   "metadata": {},
   "source": [
    "### `calc_window_intro_percent`"
   ]
  },
  {
   "cell_type": "markdown",
   "id": "b840b9c7-cf2c-4bb1-8d29-f0e7d0c3e2fa",
   "metadata": {},
   "source": [
    "### `genotype_matrix_windows`"
   ]
  },
  {
   "cell_type": "markdown",
   "id": "a77e2ae9-18eb-48bd-ad2d-b2d6bdd0be23",
   "metadata": {},
   "source": [
    "### `calc_alpha`"
   ]
  },
  {
   "cell_type": "markdown",
   "id": "896243e8-c11a-46b1-903d-c525dcb627f0",
   "metadata": {},
   "source": [
    "### `calc_beta`"
   ]
  },
  {
   "cell_type": "markdown",
   "id": "1d231774-b0af-4eb4-af7f-9bbbc9489472",
   "metadata": {},
   "source": [
    "### `calc_xi`"
   ]
  },
  {
   "cell_type": "code",
   "execution_count": 15,
   "id": "7d860143-3e95-4c9a-ae93-795d9ff24968",
   "metadata": {},
   "outputs": [],
   "source": [
    "### calc_gamma"
   ]
  },
  {
   "cell_type": "code",
   "execution_count": 16,
   "id": "9d0d777d-5c40-4d4b-9a3f-dbd09b44ff6a",
   "metadata": {},
   "outputs": [],
   "source": [
    "### `update_A`"
   ]
  },
  {
   "cell_type": "code",
   "execution_count": null,
   "id": "3605e260-de3c-4099-84f6-da0589b8e8ee",
   "metadata": {},
   "outputs": [],
   "source": [
    "### `update_B`"
   ]
  },
  {
   "cell_type": "code",
   "execution_count": 17,
   "id": "313c166a-0445-48ff-8f45-bbd0e44879e3",
   "metadata": {},
   "outputs": [],
   "source": [
    "### `update_pi`"
   ]
  },
  {
   "cell_type": "code",
   "execution_count": 18,
   "id": "272e3fe5-29c8-4a97-8c92-0098f61aae47",
   "metadata": {},
   "outputs": [],
   "source": [
    "### `hmm`"
   ]
  },
  {
   "cell_type": "code",
   "execution_count": 19,
   "id": "f7ca5737-bc4e-4979-a690-049b8c3ce26f",
   "metadata": {},
   "outputs": [],
   "source": [
    "### `eval_accuracy`"
   ]
  },
  {
   "cell_type": "code",
   "execution_count": 20,
   "id": "b2affebf-4e6e-4393-b7e5-5144c4576c31",
   "metadata": {},
   "outputs": [],
   "source": [
    "### `viterbi`"
   ]
  },
  {
   "cell_type": "code",
   "execution_count": 21,
   "id": "190000c5-9fdd-4ae3-9110-ebdb12cc31ea",
   "metadata": {},
   "outputs": [],
   "source": [
    "### `compute_logP`"
   ]
  },
  {
   "cell_type": "code",
   "execution_count": 22,
   "id": "75e730a4-1eb0-4cac-9930-95e10ccca7e0",
   "metadata": {},
   "outputs": [],
   "source": [
    "### `print_results`"
   ]
  },
  {
   "cell_type": "code",
   "execution_count": 23,
   "id": "66ce2349-421f-4202-8f7a-5d6133785e9c",
   "metadata": {},
   "outputs": [],
   "source": [
    "### `logsum`"
   ]
  },
  {
   "cell_type": "code",
   "execution_count": 24,
   "id": "e18eec63-4342-4658-9982-8fce17e30c4d",
   "metadata": {},
   "outputs": [],
   "source": [
    "### `exp_logsum`"
   ]
  },
  {
   "cell_type": "code",
   "execution_count": null,
   "id": "bb7b4b6c-3cfc-45ea-9bb7-14ca80488669",
   "metadata": {},
   "outputs": [],
   "source": []
  }
 ],
 "metadata": {
  "kernelspec": {
   "display_name": "Python 3 (ipykernel)",
   "language": "python",
   "name": "python3"
  },
  "language_info": {
   "codemirror_mode": {
    "name": "ipython",
    "version": 3
   },
   "file_extension": ".py",
   "mimetype": "text/x-python",
   "name": "python",
   "nbconvert_exporter": "python",
   "pygments_lexer": "ipython3",
   "version": "3.9.10"
  }
 },
 "nbformat": 4,
 "nbformat_minor": 5
}
