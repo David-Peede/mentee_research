{
 "cells": [
  {
   "cell_type": "markdown",
   "id": "0c6e4d88-15ef-4f73-9223-9c7dd428e40d",
   "metadata": {},
   "source": [
    "# Simulated Data Example\n",
    "First I load the necssary packages and double check key packages versions."
   ]
  },
  {
   "cell_type": "code",
   "execution_count": 7,
   "id": "ba3b4126-c56c-4e39-8f0a-8dad77d8801d",
   "metadata": {},
   "outputs": [
    {
     "name": "stdout",
     "output_type": "stream",
     "text": [
      "demes 0.2.2\n",
      "demesdraw 0.3.0\n",
      "msprime 1.2.0\n",
      "tskit 0.5.1\n"
     ]
    }
   ],
   "source": [
    "# Import packages.\n",
    "import demes\n",
    "import demesdraw\n",
    "from IPython.display import display, SVG\n",
    "from matplotlib import pyplot as plt\n",
    "import msprime\n",
    "import numpy as np\n",
    "import pandas as pd\n",
    "import tskit\n",
    "# Print versions of our libraries.\n",
    "print('demes', demes.__version__)\n",
    "print('demesdraw', demesdraw.__version__)\n",
    "print('msprime', msprime.__version__)\n",
    "print('tskit', tskit.__version__)"
   ]
  },
  {
   "cell_type": "markdown",
   "id": "916045e6-2082-4ceb-8e0a-57f01cfdf916",
   "metadata": {},
   "source": [
    "If the output of the above cell doesn't match `demes 0.2.1`, `demesdraw 0.3.0`, `msprime 1.1.1`, and `tskit 0.4.1` then this notebook will throw you one million error messages. I will now define two general functions, that I will need for the rest of this notebook."
   ]
  },
  {
   "cell_type": "markdown",
   "id": "35c8f5ab-7358-4b46-b5f2-b3b635a5fc46",
   "metadata": {},
   "source": [
    "## Model Sanity Check\n",
    "Next I will use the same model as described in Racimo et al. 2017 and validate it using `msprime` and `demes`."
   ]
  },
  {
   "cell_type": "code",
   "execution_count": 8,
   "id": "e961a189-46a2-4090-a2c8-dee635b2d86a",
   "metadata": {},
   "outputs": [
    {
     "data": {
      "text/html": [
       "<div><details open=\"true\"><summary>Epoch[0]: [0, 1.6e+03) generations</summary><div style=\"margin-left:20px\"><div><style scoped=\"\">\n",
       "            .tskit-table thead tr th:only-of-type {vertical-align: middle;}\n",
       "            .tskit-table thead tr th {text-align: center;vertical-align: top;}\n",
       "            .tskit-table tbody td {text-align: right;padding: 0.5em 0.5em;}\n",
       "            .tskit-table tbody th {padding: 0.5em 0.5em;}\n",
       "        </style><b>Populations (total=5 active=3)</b><table border=\"1\" class=\"tskit-table\"><thead><tr><th></th><th>start</th><th>end</th><th>growth_rate</th><th>AFR</th><th>EUR</th><th>NEA</th></tr></thead><tbody><tr><td>AFR</td><td> 10000.0</td><td> 10000.0</td><td> 0</td><td>0</td><td title='Backwards in time migration rate from population AFR to EUR = 0.0 per\n",
       "generation. Forwards in time, this is the expected number of migrants moving\n",
       "from EUR to AFR per generation, divided by the size of AFR.'>0</td><td title='Backwards in time migration rate from population AFR to NEA = 0.0 per\n",
       "generation. Forwards in time, this is the expected number of migrants moving\n",
       "from NEA to AFR per generation, divided by the size of AFR.'>0</td></tr><tr><td>EUR</td><td> 10000.0</td><td> 10000.0</td><td> 0</td><td title='Backwards in time migration rate from population EUR to AFR = 0.0 per\n",
       "generation. Forwards in time, this is the expected number of migrants moving\n",
       "from AFR to EUR per generation, divided by the size of EUR.'>0</td><td>0</td><td title='Backwards in time migration rate from population EUR to NEA = 0.0 per\n",
       "generation. Forwards in time, this is the expected number of migrants moving\n",
       "from NEA to EUR per generation, divided by the size of EUR.'>0</td></tr><tr><td>NEA</td><td> 10000.0</td><td> 10000.0</td><td> 0</td><td title='Backwards in time migration rate from population NEA to AFR = 0.0 per\n",
       "generation. Forwards in time, this is the expected number of migrants moving\n",
       "from AFR to NEA per generation, divided by the size of NEA.'>0</td><td title='Backwards in time migration rate from population NEA to EUR = 0.0 per\n",
       "generation. Forwards in time, this is the expected number of migrants moving\n",
       "from EUR to NEA per generation, divided by the size of NEA.'>0</td><td>0</td></tr></tbody></table></div><div><style scoped=\"\">\n",
       "            .tskit-table thead tr th:only-of-type {vertical-align: middle;}\n",
       "            .tskit-table thead tr th {text-align: center;vertical-align: top;}\n",
       "            .tskit-table tbody td {text-align: right;padding: 0.5em 0.5em;}\n",
       "            .tskit-table tbody th {padding: 0.5em 0.5em;}\n",
       "        </style><b>Events @ generation 1.6e+03</b><table border=\"1\" class=\"tskit-table\"><thead><tr><th>time</th><th>type</th><th>parameters</th><th>effect</th></tr></thead><tbody><tr><td>1600</td><td><a href='https://tskit.dev/msprime/docs/latest/api.html#msprime.Demography.add_mass_migration'>Mass Migration</a></td><td>source=EUR, dest=NEA, proportion=0.03</td><td>Lineages currently in population EUR move to NEA with probability 0.03 (equivalent to individuals migrating from NEA to EUR forwards in time)</td></tr></tbody></table></div></div></details><details open=\"true\"><summary>Epoch[1]: [1.6e+03, 4e+03) generations</summary><div style=\"margin-left:20px\"><div><style scoped=\"\">\n",
       "            .tskit-table thead tr th:only-of-type {vertical-align: middle;}\n",
       "            .tskit-table thead tr th {text-align: center;vertical-align: top;}\n",
       "            .tskit-table tbody td {text-align: right;padding: 0.5em 0.5em;}\n",
       "            .tskit-table tbody th {padding: 0.5em 0.5em;}\n",
       "        </style><b>Populations (total=5 active=3)</b><table border=\"1\" class=\"tskit-table\"><thead><tr><th></th><th>start</th><th>end</th><th>growth_rate</th><th>AFR</th><th>EUR</th><th>NEA</th></tr></thead><tbody><tr><td>AFR</td><td> 10000.0</td><td> 10000.0</td><td> 0</td><td>0</td><td title='Backwards in time migration rate from population AFR to EUR = 0.0 per\n",
       "generation. Forwards in time, this is the expected number of migrants moving\n",
       "from EUR to AFR per generation, divided by the size of AFR.'>0</td><td title='Backwards in time migration rate from population AFR to NEA = 0.0 per\n",
       "generation. Forwards in time, this is the expected number of migrants moving\n",
       "from NEA to AFR per generation, divided by the size of AFR.'>0</td></tr><tr><td>EUR</td><td> 10000.0</td><td> 10000.0</td><td> 0</td><td title='Backwards in time migration rate from population EUR to AFR = 0.0 per\n",
       "generation. Forwards in time, this is the expected number of migrants moving\n",
       "from AFR to EUR per generation, divided by the size of EUR.'>0</td><td>0</td><td title='Backwards in time migration rate from population EUR to NEA = 0.0 per\n",
       "generation. Forwards in time, this is the expected number of migrants moving\n",
       "from NEA to EUR per generation, divided by the size of EUR.'>0</td></tr><tr><td>NEA</td><td> 10000.0</td><td> 10000.0</td><td> 0</td><td title='Backwards in time migration rate from population NEA to AFR = 0.0 per\n",
       "generation. Forwards in time, this is the expected number of migrants moving\n",
       "from AFR to NEA per generation, divided by the size of NEA.'>0</td><td title='Backwards in time migration rate from population NEA to EUR = 0.0 per\n",
       "generation. Forwards in time, this is the expected number of migrants moving\n",
       "from EUR to NEA per generation, divided by the size of NEA.'>0</td><td>0</td></tr></tbody></table></div><div><style scoped=\"\">\n",
       "            .tskit-table thead tr th:only-of-type {vertical-align: middle;}\n",
       "            .tskit-table thead tr th {text-align: center;vertical-align: top;}\n",
       "            .tskit-table tbody td {text-align: right;padding: 0.5em 0.5em;}\n",
       "            .tskit-table tbody th {padding: 0.5em 0.5em;}\n",
       "        </style><b>Events @ generation 4e+03</b><table border=\"1\" class=\"tskit-table\"><thead><tr><th>time</th><th>type</th><th>parameters</th><th>effect</th></tr></thead><tbody><tr><td>4000</td><td><a href='https://tskit.dev/msprime/docs/latest/api.html#msprime.Demography.add_population_split'>Population Split</a></td><td>derived=[AFR, EUR], ancestral=AMH</td><td>Moves all lineages from derived populations &#x27;AFR&#x27; and &#x27;EUR&#x27; to the ancestral &#x27;AMH&#x27; population. Also set the derived populations to inactive, and all migration rates to and from the derived populations to zero.</td></tr></tbody></table></div></div></details><details open=\"true\"><summary>Epoch[2]: [4e+03, 1.6e+04) generations</summary><div style=\"margin-left:20px\"><div><style scoped=\"\">\n",
       "            .tskit-table thead tr th:only-of-type {vertical-align: middle;}\n",
       "            .tskit-table thead tr th {text-align: center;vertical-align: top;}\n",
       "            .tskit-table tbody td {text-align: right;padding: 0.5em 0.5em;}\n",
       "            .tskit-table tbody th {padding: 0.5em 0.5em;}\n",
       "        </style><b>Populations (total=5 active=2)</b><table border=\"1\" class=\"tskit-table\"><thead><tr><th></th><th>start</th><th>end</th><th>growth_rate</th><th>NEA</th><th>AMH</th></tr></thead><tbody><tr><td>NEA</td><td> 10000.0</td><td> 10000.0</td><td> 0</td><td>0</td><td title='Backwards in time migration rate from population NEA to AMH = 0.0 per\n",
       "generation. Forwards in time, this is the expected number of migrants moving\n",
       "from AMH to NEA per generation, divided by the size of NEA.'>0</td></tr><tr><td>AMH</td><td> 10000.0</td><td> 10000.0</td><td> 0</td><td title='Backwards in time migration rate from population AMH to NEA = 0.0 per\n",
       "generation. Forwards in time, this is the expected number of migrants moving\n",
       "from NEA to AMH per generation, divided by the size of AMH.'>0</td><td>0</td></tr></tbody></table></div><div><style scoped=\"\">\n",
       "            .tskit-table thead tr th:only-of-type {vertical-align: middle;}\n",
       "            .tskit-table thead tr th {text-align: center;vertical-align: top;}\n",
       "            .tskit-table tbody td {text-align: right;padding: 0.5em 0.5em;}\n",
       "            .tskit-table tbody th {padding: 0.5em 0.5em;}\n",
       "        </style><b>Events @ generation 1.6e+04</b><table border=\"1\" class=\"tskit-table\"><thead><tr><th>time</th><th>type</th><th>parameters</th><th>effect</th></tr></thead><tbody><tr><td>1.6e+04</td><td><a href='https://tskit.dev/msprime/docs/latest/api.html#msprime.Demography.add_population_split'>Population Split</a></td><td>derived=[AMH, NEA], ancestral=HUM</td><td>Moves all lineages from derived populations &#x27;AMH&#x27; and &#x27;NEA&#x27; to the ancestral &#x27;HUM&#x27; population. Also set the derived populations to inactive, and all migration rates to and from the derived populations to zero.</td></tr></tbody></table></div></div></details><details open=\"true\"><summary>Epoch[3]: [1.6e+04, inf) generations</summary><div style=\"margin-left:20px\"><div><style scoped=\"\">\n",
       "            .tskit-table thead tr th:only-of-type {vertical-align: middle;}\n",
       "            .tskit-table thead tr th {text-align: center;vertical-align: top;}\n",
       "            .tskit-table tbody td {text-align: right;padding: 0.5em 0.5em;}\n",
       "            .tskit-table tbody th {padding: 0.5em 0.5em;}\n",
       "        </style><b>Populations (total=5 active=1)</b><table border=\"1\" class=\"tskit-table\"><thead><tr><th></th><th>start</th><th>end</th><th>growth_rate</th></tr></thead><tbody><tr><td>HUM</td><td> 10000.0</td><td> 10000.0</td><td> 0</td></tr></tbody></table></div></div></details></div>"
      ],
      "text/plain": [
       "<msprime.demography.DemographyDebugger at 0x12ed24640>"
      ]
     },
     "execution_count": 8,
     "metadata": {},
     "output_type": "execute_result"
    }
   ],
   "source": [
    "# Define IUA model of introgression.\n",
    "def iua_human_model(f):\n",
    "    # Intialize demographic model.\n",
    "    iua_model = msprime.Demography()\n",
    "    # We assume constant and equal effective population sizes for\n",
    "    # all lineages.\n",
    "    iua_model.add_population(name='AFR', initial_size=10_000)\n",
    "    iua_model.add_population(name='EUR', initial_size=10_000)\n",
    "    iua_model.add_population(name='NEA', initial_size=10_000)\n",
    "    iua_model.add_population(name='AMH', initial_size=10_000)\n",
    "    iua_model.add_population(name='HUM', initial_size=10_000)\n",
    "    # Introgression from the Neanderthal to the Eurasian lineage\n",
    "    # occuring 1,600 generations ago with a probability of f.\n",
    "    iua_model.add_mass_migration(\n",
    "        time=1_600, source='EUR', dest='NEA', proportion=f,\n",
    "    )\n",
    "    # The African and Eurasian lineages merge into the anatomically\n",
    "    # modern human lineage 4,000 generations ago.\n",
    "    iua_model.add_population_split(\n",
    "        time=4_000, derived=['AFR', 'EUR'], ancestral='AMH',\n",
    "    )\n",
    "    # The anatomically modern human and Neanderthal lineages merge\n",
    "    # into the ancestral human lineage 16,000 generations ago.\n",
    "    iua_model.add_population_split(\n",
    "        time=16_000, derived=['AMH', 'NEA'], ancestral='HUM',\n",
    "    )\n",
    "    return iua_model\n",
    "# Sanity check to make sure the model is right.\n",
    "test_model = iua_human_model(0.03)\n",
    "test_model.debug()"
   ]
  },
  {
   "cell_type": "markdown",
   "id": "1524570d-c1e0-418c-afb4-ed0050c11b3c",
   "metadata": {},
   "source": [
    "Looks good but lets visualize this model as a sanity check."
   ]
  },
  {
   "cell_type": "code",
   "execution_count": 9,
   "id": "1502dd5a-097f-4de0-915d-ecbca0ef4d53",
   "metadata": {},
   "outputs": [
    {
     "data": {
      "text/plain": [
       "<AxesSubplot:ylabel='time ago (generations)'>"
      ]
     },
     "execution_count": 9,
     "metadata": {},
     "output_type": "execute_result"
    },
    {
     "data": {
      "image/png": "[encoded data removed]",
      "text/plain": [
       "<Figure size 864x648 with 1 Axes>"
      ]
     },
     "metadata": {
      "needs_background": "light"
     },
     "output_type": "display_data"
    }
   ],
   "source": [
    "# Convert the demographic object to a demes graph.\n",
    "test_graph = msprime.Demography.to_demes(test_model)\n",
    "# Visualize the demes graph.\n",
    "fig, ax = plt.subplots(figsize=(12,9))\n",
    "demesdraw.tubes(test_graph, ax=ax, log_time=True)"
   ]
  },
  {
   "cell_type": "markdown",
   "id": "3af8f613-588b-4b7e-8637-2c7fc0a3cc56",
   "metadata": {},
   "source": [
    "## Example Simulation\n",
    "Here I will walk through a simulation using the `iua_human_model()` function we defined earlier."
   ]
  },
  {
   "cell_type": "code",
   "execution_count": 10,
   "id": "adf5b9c6-8bb3-4c94-b348-f17a0e28ab04",
   "metadata": {},
   "outputs": [
    {
     "data": {
      "text/html": [
       "\n",
       "            <div>\n",
       "              <style>\n",
       "                .tskit-table thead tr th {text-align: left;padding: 0.5em 0.5em;}\n",
       "                .tskit-table tbody tr td {padding: 0.5em 0.5em;}\n",
       "                .tskit-table tbody tr td:first-of-type {text-align: left;}\n",
       "                .tskit-details-label {vertical-align: top; padding-right:5px;}\n",
       "                .tskit-table-set {display: inline-flex;flex-wrap: wrap;margin: -12px 0 0 -12px;width: calc(100% + 12px);}\n",
       "                .tskit-table-set-table {margin: 12px 0 0 12px;}\n",
       "                details {display: inline-block;}\n",
       "                summary {cursor: pointer; outline: 0; display: list-item;}\n",
       "              </style>\n",
       "              <div class=\"tskit-table-set\">\n",
       "                <div class=\"tskit-table-set-table\">\n",
       "                  <table class=\"tskit-table\">\n",
       "                    <thead>\n",
       "                      <tr>\n",
       "                        <th style=\"padding:0;line-height:21px;\">\n",
       "                          <img style=\"height: 32px;display: inline-block;padding: 3px 5px 3px 0;\" src=\"https://raw.githubusercontent.com/tskit-dev/administrative/main/tskit_logo.svg\"/>\n",
       "                          <a target=\"_blank\" href=\"https://tskit.dev/tskit/docs/latest/python-api.html#the-treesequence-class\"> Tree Sequence </a>\n",
       "                        </th>\n",
       "                      </tr>\n",
       "                    </thead>\n",
       "                    <tbody>\n",
       "                      <tr><td>Trees</td><td>15511</td></tr>\n",
       "                      <tr><td>Sequence Length</td><td>20000000.0</td></tr>\n",
       "                      <tr><td>Time Units</td><td>generations</td></tr>\n",
       "                      <tr><td>Sample Nodes</td><td>4</td></tr>\n",
       "                      <tr><td>Total Size</td><td>4.4 MiB</td></tr>\n",
       "                      <tr>\n",
       "                        <td>Metadata</td><td style=\"text-align: left;\">No Metadata</td></tr>\n",
       "                    </tbody>\n",
       "                  </table>\n",
       "                </div>\n",
       "                <div class=\"tskit-table-set-table\">\n",
       "                  <table class=\"tskit-table\">\n",
       "                    <thead>\n",
       "                      <tr>\n",
       "                        <th style=\"line-height:21px;\">Table</th>\n",
       "                        <th>Rows</th>\n",
       "                        <th>Size</th>\n",
       "                        <th>Has Metadata</th>\n",
       "                      </tr>\n",
       "                    </thead>\n",
       "                    <tbody>\n",
       "                    \n",
       "                  <tr>\n",
       "                    <td>Edges</td>\n",
       "                      <td>43715</td>\n",
       "                      <td>1.3 MiB</td>\n",
       "                      <td style=\"text-align: center;\">\n",
       "                        \n",
       "                      </td>\n",
       "                    </tr>\n",
       "                \n",
       "                  <tr>\n",
       "                    <td>Individuals</td>\n",
       "                      <td>4</td>\n",
       "                      <td>136 Bytes</td>\n",
       "                      <td style=\"text-align: center;\">\n",
       "                        \n",
       "                      </td>\n",
       "                    </tr>\n",
       "                \n",
       "                  <tr>\n",
       "                    <td>Migrations</td>\n",
       "                      <td>11583</td>\n",
       "                      <td>497.7 KiB</td>\n",
       "                      <td style=\"text-align: center;\">\n",
       "                        \n",
       "                      </td>\n",
       "                    </tr>\n",
       "                \n",
       "                  <tr>\n",
       "                    <td>Mutations</td>\n",
       "                      <td>33757</td>\n",
       "                      <td>1.2 MiB</td>\n",
       "                      <td style=\"text-align: center;\">\n",
       "                        \n",
       "                      </td>\n",
       "                    </tr>\n",
       "                \n",
       "                  <tr>\n",
       "                    <td>Nodes</td>\n",
       "                      <td>10058</td>\n",
       "                      <td>275.0 KiB</td>\n",
       "                      <td style=\"text-align: center;\">\n",
       "                        \n",
       "                      </td>\n",
       "                    </tr>\n",
       "                \n",
       "                  <tr>\n",
       "                    <td>Populations</td>\n",
       "                      <td>5</td>\n",
       "                      <td>378 Bytes</td>\n",
       "                      <td style=\"text-align: center;\">\n",
       "                        ✅\n",
       "                      </td>\n",
       "                    </tr>\n",
       "                \n",
       "                  <tr>\n",
       "                    <td>Provenances</td>\n",
       "                      <td>2</td>\n",
       "                      <td>3.3 KiB</td>\n",
       "                      <td style=\"text-align: center;\">\n",
       "                        \n",
       "                      </td>\n",
       "                    </tr>\n",
       "                \n",
       "                  <tr>\n",
       "                    <td>Sites</td>\n",
       "                      <td>33757</td>\n",
       "                      <td>824.2 KiB</td>\n",
       "                      <td style=\"text-align: center;\">\n",
       "                        \n",
       "                      </td>\n",
       "                    </tr>\n",
       "                \n",
       "                    </tbody>\n",
       "                  </table>\n",
       "                </div>\n",
       "              </div>\n",
       "            </div>\n",
       "            "
      ],
      "text/plain": [
       "<tskit.trees.TreeSequence at 0x122215910>"
      ]
     },
     "execution_count": 10,
     "metadata": {},
     "output_type": "execute_result"
    }
   ],
   "source": [
    "# Simulate a tree sequence.\n",
    "ex_ts_f_03 = msprime.sim_ancestry(\n",
    "    samples=[\n",
    "        msprime.SampleSet(2, ploidy=1, population='AFR'), # Sample two haplotypes from AFR for our HMM.\n",
    "        msprime.SampleSet(1, ploidy=1, population='EUR'),\n",
    "        msprime.SampleSet(1, ploidy=1, population='NEA'),\n",
    "    ],\n",
    "    demography=iua_human_model(0.03), # Rate of introgression at 0.03.\n",
    "    sequence_length=20_000_000, # Generate 20 Mb haplotypes per samples.\n",
    "    recombination_rate=1e-8,\n",
    "    record_migrations=True, # Need this to keep track of what segments are introgressed.\n",
    "    discrete_genome=False,\n",
    "    random_seed=42,\n",
    ")\n",
    "# Overlay mutations.\n",
    "ex_mts_f_03 = msprime.sim_mutations(\n",
    "    tree_sequence=ex_ts_f_03, rate=1.5e-8,\n",
    "    model='jc69', random_seed=42,\n",
    "    discrete_genome=False,\n",
    ")\n",
    "# View the mutated tree-sequence summary.\n",
    "ex_mts_f_03"
   ]
  },
  {
   "cell_type": "markdown",
   "id": "ceaa9e8b-9f39-4245-8cfb-ab73f4def1f7",
   "metadata": {},
   "source": [
    "Ok so now we will look at the genotype matrix, where the first two indicies (i.e., 0 and 1) are the two `AFR` haplotypes, the third index (i.e., 2) is the `EUR` haplotype, and the fourth index (i.e., 3) is the `NEA` haplotype."
   ]
  },
  {
   "cell_type": "code",
   "execution_count": 11,
   "id": "0a5c1b56-00d3-4395-a157-40b591519fea",
   "metadata": {},
   "outputs": [
    {
     "name": "stdout",
     "output_type": "stream",
     "text": [
      "[[1 1 1 0]\n",
      " [1 1 1 0]\n",
      " [0 0 0 1]\n",
      " ...\n",
      " [0 0 1 0]\n",
      " [1 0 0 0]\n",
      " [1 1 0 0]]\n",
      "There are 33757 variants between 4 haplotypes of 20 Mb\n"
     ]
    }
   ],
   "source": [
    "# View the genotype matrix.\n",
    "ex_genotype_matrix = ex_mts_f_03.genotype_matrix()\n",
    "print(ex_genotype_matrix)\n",
    "print('There are {0} variants between 4 haplotypes of 20 Mb'.format(ex_genotype_matrix.shape[0]))"
   ]
  },
  {
   "cell_type": "markdown",
   "id": "d92baba9-f4e9-451b-98c5-5321b2c02ba1",
   "metadata": {},
   "source": [
    "Next lets just run another sanity check to make sure there are that many positions."
   ]
  },
  {
   "cell_type": "code",
   "execution_count": null,
   "id": "733d15e6-dc48-43a2-a9b5-85a28d40b0bf",
   "metadata": {},
   "outputs": [],
   "source": []
  },
  {
   "cell_type": "code",
   "execution_count": null,
   "id": "4f97dfe1-6e20-427b-aa29-dba16a61c3ec",
   "metadata": {},
   "outputs": [],
   "source": []
  },
  {
   "cell_type": "code",
   "execution_count": 12,
   "id": "711e01ce-229c-475d-9f70-b4770dec5300",
   "metadata": {},
   "outputs": [
    {
     "name": "stdout",
     "output_type": "stream",
     "text": [
      "[1.14582156e+03 1.27624698e+03 1.68033211e+03 ... 1.99994501e+07\n",
      " 1.99997610e+07 1.99999921e+07]\n",
      "There are 33757 variants between 4 haplotypes of 20 Mb\n"
     ]
    }
   ],
   "source": [
    "# Grab the positions of the variable sites.\n",
    "ex_variable_positions = ex_mts_f_03.tables.sites.position\n",
    "print(ex_variable_positions)\n",
    "print('There are {0} variants between 4 haplotypes of 20 Mb'.format(ex_variable_positions.shape[0]))"
   ]
  },
  {
   "cell_type": "markdown",
   "id": "cec478c5-3bb9-465a-b697-156309bff882",
   "metadata": {},
   "source": [
    "So now we need to find the start and stop positions of the introgressed segments, which I will do with the `intro_ls_tracts()` function."
   ]
  },
  {
   "cell_type": "code",
   "execution_count": 13,
   "id": "27cca3d8-1cdc-4ef5-873b-3a95f1dc7454",
   "metadata": {},
   "outputs": [
    {
     "name": "stdout",
     "output_type": "stream",
     "text": [
      "[[  805054.61032182   822138.24202034]\n",
      " [  826407.7993745    827822.98781058]\n",
      " [  881057.19230797  1009036.89777329]\n",
      " [ 1013842.35828049  1023616.52767661]\n",
      " [ 1345187.84542486  1351871.10525993]\n",
      " [ 1354379.15265139  1359286.73812832]\n",
      " [ 1360243.53686843  1373180.81628828]\n",
      " [ 1378751.18079394  1381272.49190307]\n",
      " [ 1387091.34965617  1395285.54356949]\n",
      " [ 5681373.58408756  5686994.47048812]\n",
      " [ 7042687.72284607  7046252.01784735]\n",
      " [ 7049701.86373817  7050827.35636242]\n",
      " [ 7065112.39562733  7065883.14937669]\n",
      " [ 7082515.41149341  7163541.39393841]\n",
      " [12186831.14509647 12190025.4287044 ]\n",
      " [12790818.83164454 12794927.54465557]\n",
      " [12797717.82811598 12807013.20045325]\n",
      " [12812798.14717509 12823332.95395597]\n",
      " [13094311.32929789 13103567.16836905]\n",
      " [13655012.97851676 13655815.25379389]\n",
      " [13659082.66471021 13659363.30106126]\n",
      " [13668115.20428002 13677121.17901357]\n",
      " [13697623.99347467 13715561.4342309 ]\n",
      " [13719739.0634523  13748487.93184774]\n",
      " [15279184.19938415 15282347.70617339]\n",
      " [15290899.77291562 15291455.04621667]\n",
      " [15340640.79095113 15340960.70867345]\n",
      " [15351309.48309539 15351434.69107097]\n",
      " [15366620.48527349 15366919.1436739 ]\n",
      " [15394652.35691964 15399142.8881735 ]\n",
      " [15407752.52180992 15432641.68633945]\n",
      " [15443029.02297392 15463099.89829888]\n",
      " [15464783.20602727 15475020.41151727]]\n",
      "Start positions of introgressed regions: [  805054.61032182   826407.7993745    881057.19230797  1013842.35828049\n",
      "  1345187.84542486  1354379.15265139  1360243.53686843  1378751.18079394\n",
      "  1387091.34965617  5681373.58408756  7042687.72284607  7049701.86373817\n",
      "  7065112.39562733  7082515.41149341 12186831.14509647 12790818.83164454\n",
      " 12797717.82811598 12812798.14717509 13094311.32929789 13655012.97851676\n",
      " 13659082.66471021 13668115.20428002 13697623.99347467 13719739.0634523\n",
      " 15279184.19938415 15290899.77291562 15340640.79095113 15351309.48309539\n",
      " 15366620.48527349 15394652.35691964 15407752.52180992 15443029.02297392\n",
      " 15464783.20602727]\n",
      "Stop positions of introgressed regions: [  822138.24202034   827822.98781058  1009036.89777329  1023616.52767661\n",
      "  1351871.10525993  1359286.73812832  1373180.81628828  1381272.49190307\n",
      "  1395285.54356949  5686994.47048812  7046252.01784735  7050827.35636242\n",
      "  7065883.14937669  7163541.39393841 12190025.4287044  12794927.54465557\n",
      " 12807013.20045325 12823332.95395597 13103567.16836905 13655815.25379389\n",
      " 13659363.30106126 13677121.17901357 13715561.4342309  13748487.93184774\n",
      " 15282347.70617339 15291455.04621667 15340960.70867345 15351434.69107097\n",
      " 15366919.1436739  15399142.8881735  15432641.68633945 15463099.89829888\n",
      " 15475020.41151727]\n",
      "Introgressed regions lengths: [1.70836317e+04 1.41518844e+03 1.27979705e+05 9.77416940e+03\n",
      " 6.68325984e+03 4.90758548e+03 1.29372794e+04 2.52131111e+03\n",
      " 8.19419391e+03 5.62088640e+03 3.56429500e+03 1.12549262e+03\n",
      " 7.70753749e+02 8.10259824e+04 3.19428361e+03 4.10871301e+03\n",
      " 9.29537234e+03 1.05348068e+04 9.25583907e+03 8.02275277e+02\n",
      " 2.80636351e+02 9.00597473e+03 1.79374408e+04 2.87488684e+04\n",
      " 3.16350679e+03 5.55273301e+02 3.19917722e+02 1.25207976e+02\n",
      " 2.98658400e+02 4.49053125e+03 2.48891645e+04 2.00708753e+04\n",
      " 1.02372055e+04]\n"
     ]
    }
   ],
   "source": [
    "# Define a function to extract introgressed regions.\n",
    "def intro_ls_tracts(\n",
    "    ts,\n",
    "    donor_pop_id,\n",
    "    donor_samp_id,\n",
    "    recipient_samp_id,\n",
    "):\n",
    "    \"\"\"\n",
    "    ###########################################################################\n",
    "    INPUT\n",
    "        ts: Simulated tree sequence.\n",
    "        donor_pop_id: ID of the donor population.\n",
    "        donor_samp_id: ID of the donor sample.\n",
    "        recipient_samp_id: ID of the recipient sample.\n",
    "    ---------------------------------------------------------------------------\n",
    "    OUTPUT: NumPy array of start and end positions of tracts with a history of \n",
    "            introgression plus lineage sorting.\n",
    "    ###########################################################################\n",
    "    \"\"\"\n",
    "    # Intialize and empty list to store the output and tract length stopping\n",
    "    # point.\n",
    "    intro_ls_tracts = []\n",
    "    tract_left = None\n",
    "    # For all trees in the tree sequence.\n",
    "    for tree in ts.trees():\n",
    "        # Record the population of the MRCA node of our two target populations.\n",
    "        mrca_pop = ts.node(tree.mrca(recipient_samp_id, donor_samp_id)).population\n",
    "        # Record the left interval.\n",
    "        left = tree.interval[0]\n",
    "        # If the two target populations find their MRCA in the donor population,\n",
    "        # i.e., if there is introgression + lineage sorting, and if we are not\n",
    "        # already in an introgressed tract.\n",
    "        if mrca_pop == donor_pop_id and tract_left is None:\n",
    "            # Record the left position as the start of the introgressed tract.\n",
    "            tract_left = left\n",
    "        # Else if the two target populations do not find their MRCA in the\n",
    "        # donor population, and if the last tree was within and introgressed\n",
    "        # tract.\n",
    "        elif mrca_pop != donor_pop_id and tract_left is not None:\n",
    "            # Record the introgressed tract from its intial start point to the\n",
    "            # left position of the current tree.\n",
    "            intro_ls_tracts.append((tract_left, left))\n",
    "            tract_left = None\n",
    "    # If the last tree in the tree sequence contains an introgressed tract.\n",
    "    if tract_left is not None:\n",
    "        # Then make the right value of the last introgressed tract the sequence\n",
    "        # length.\n",
    "        intro_ls_tracts.append((tract_left, ts.sequence_length))\n",
    "    return np.array(intro_ls_tracts)\n",
    "# Identify introgressed tracts.\n",
    "ex_intro_tracts_array = intro_ls_tracts(\n",
    "    ts=ex_ts_f_03,\n",
    "    donor_pop_id=2,\n",
    "    donor_samp_id=3,\n",
    "    recipient_samp_id=2,\n",
    ")\n",
    "print(ex_intro_tracts_array)\n",
    "# Intilaize the start and stop lists.\n",
    "ex_starts = ex_intro_tracts_array[:,0]\n",
    "ex_stops = ex_intro_tracts_array[:,1]\n",
    "ex_lengths = ex_intro_tracts_array[:,1] - ex_intro_tracts_array[:,0]\n",
    "# Print a summary.\n",
    "print('Start positions of introgressed regions: {0}'.format(ex_starts))\n",
    "print('Stop positions of introgressed regions: {0}'.format(ex_stops))\n",
    "print('Introgressed regions lengths: {0}'.format(ex_lengths))"
   ]
  },
  {
   "cell_type": "markdown",
   "id": "4a90c8af-a282-495c-92c7-f5ed8a371ae3",
   "metadata": {},
   "source": [
    "Now lets run one last sanity check by checking the actual migration table."
   ]
  },
  {
   "cell_type": "code",
   "execution_count": 14,
   "id": "09c65dd1-2c8c-48eb-957c-10bfddd75549",
   "metadata": {},
   "outputs": [
    {
     "name": "stdout",
     "output_type": "stream",
     "text": [
      "There are 33 start and 33 stop positions for introgressed regions.\n"
     ]
    },
    {
     "data": {
      "text/html": [
       "\n",
       "            <div>\n",
       "                <style scoped=\"\">\n",
       "                    .tskit-table tbody tr th:only-of-type {vertical-align: middle;}\n",
       "                    .tskit-table tbody tr th {vertical-align: top;}\n",
       "                    .tskit-table tbody td {text-align: right;padding: 0.5em 0.5em;}\n",
       "                    .tskit-table tbody th {padding: 0.5em 0.5em;}\n",
       "                </style>\n",
       "                <table border=\"1\" class=\"tskit-table\">\n",
       "                    <thead>\n",
       "                        <tr>\n",
       "                            <th>id</th><th>left</th><th>right</th><th>node</th><th>source</th><th>dest</th><th>time</th><th>metadata</th>\n",
       "                        </tr>\n",
       "                    </thead>\n",
       "                    <tbody>\n",
       "                        <tr><td>0</td><td>13638495.81029948</td><td>13748487.93184774</td><td>2</td><td>1</td><td>2</td><td>1600</td><td></td></tr>\n",
       "<tr><td>1</td><td>15279184.19938415</td><td>15282347.70617339</td><td>2</td><td>1</td><td>2</td><td>1600</td><td></td></tr>\n",
       "<tr><td>2</td><td>8596828.18594796</td><td>8620819.63459956</td><td>2</td><td>1</td><td>2</td><td>1600</td><td></td></tr>\n",
       "<tr><td>3</td><td>1345187.84542486</td><td>1399085.12575242</td><td>2</td><td>1</td><td>2</td><td>1600</td><td></td></tr>\n",
       "<tr><td>4</td><td>5681373.58408756</td><td>5686994.47048812</td><td>2</td><td>1</td><td>2</td><td>1600</td><td></td></tr>\n",
       "<tr><td>5</td><td>12186831.14509647</td><td>12197455.46709356</td><td>2</td><td>1</td><td>2</td><td>1600</td><td></td></tr>\n",
       "<tr><td>6</td><td>15368125.33992144</td><td>15475020.41151727</td><td>2</td><td>1</td><td>2</td><td>1600</td><td></td></tr>\n",
       "<tr><td>7</td><td>758792.68439868</td><td>1026249.02152703</td><td>2</td><td>1</td><td>2</td><td>1600</td><td></td></tr>\n",
       "<tr><td>8</td><td>7042687.72284607</td><td>7163541.39393841</td><td>2</td><td>1</td><td>2</td><td>1600</td><td></td></tr>\n",
       "<tr><td>9</td><td>12790818.83164454</td><td>12829667.44734010</td><td>2</td><td>1</td><td>2</td><td>1600</td><td></td></tr>\n",
       "<tr><td>10</td><td>15282347.70617339</td><td>15368125.33992144</td><td>2</td><td>1</td><td>2</td><td>1600</td><td></td></tr>\n",
       "<tr><td>11</td><td>13077291.07016890</td><td>13103567.16836905</td><td>2</td><td>1</td><td>2</td><td>1600</td><td></td></tr>\n",
       "<tr><td>12</td><td>13243846.32384130</td><td>13251204.78450112</td><td>1</td><td>0</td><td>3</td><td>4000</td><td></td></tr>\n",
       "<tr><td>13</td><td>9045188.68436346</td><td>9045378.96904871</td><td>1</td><td>0</td><td>3</td><td>4000</td><td></td></tr>\n",
       "<tr><td>14</td><td>3802494.74953898</td><td>3827693.02534536</td><td>1</td><td>0</td><td>3</td><td>4000</td><td></td></tr>\n",
       "<tr><td>15</td><td>3827693.02534536</td><td>3876876.16737585</td><td>69</td><td>0</td><td>3</td><td>4000</td><td></td></tr>\n",
       "<tr><td>16</td><td>3876876.16737585</td><td>3910587.79613723</td><td>1</td><td>0</td><td>3</td><td>4000</td><td></td></tr>\n",
       "<tr><td>17</td><td>4044097.74872911</td><td>4065195.43123462</td><td>0</td><td>0</td><td>3</td><td>4000</td><td></td></tr>\n",
       "<tr><td>18</td><td>4314988.72536145</td><td>4382643.52174740</td><td>0</td><td>0</td><td>3</td><td>4000</td><td></td></tr>\n",
       "<tr><td>19</td><td>3237739.83344705</td><td>3255578.82995245</td><td>0</td><td>0</td><td>3</td><td>4000</td><td></td></tr>\n",
       "<tr><td style=\"text-align: center;\" colspan=\"109\"><em>11543 rows skipped (tskit.set_print_options)</em></td></tr>\n",
       "<tr><td>11563</td><td>5069054.19979362</td><td>5069818.74849654</td><td>3</td><td>2</td><td>4</td><td>16000</td><td></td></tr>\n",
       "<tr><td>11564</td><td>5145134.12394258</td><td>5146398.36356242</td><td>3</td><td>2</td><td>4</td><td>16000</td><td></td></tr>\n",
       "<tr><td>11565</td><td>5154273.32045154</td><td>5159707.52256765</td><td>3</td><td>2</td><td>4</td><td>16000</td><td></td></tr>\n",
       "<tr><td>11566</td><td>5175350.56569623</td><td>5178816.11891156</td><td>3</td><td>2</td><td>4</td><td>16000</td><td></td></tr>\n",
       "<tr><td>11567</td><td>6464745.88790349</td><td>6466587.36460453</td><td>3</td><td>2</td><td>4</td><td>16000</td><td></td></tr>\n",
       "<tr><td>11568</td><td>6686296.47563390</td><td>6689143.12836186</td><td>3</td><td>2</td><td>4</td><td>16000</td><td></td></tr>\n",
       "<tr><td>11569</td><td>6743942.01827231</td><td>6749778.57053336</td><td>3</td><td>2</td><td>4</td><td>16000</td><td></td></tr>\n",
       "<tr><td>11570</td><td>6768367.47640692</td><td>6772252.97148727</td><td>3</td><td>2</td><td>4</td><td>16000</td><td></td></tr>\n",
       "<tr><td>11571</td><td>6798638.19183830</td><td>6806139.05646887</td><td>3</td><td>2</td><td>4</td><td>16000</td><td></td></tr>\n",
       "<tr><td>11572</td><td>10951022.29534857</td><td>10952321.56776160</td><td>3</td><td>2</td><td>4</td><td>16000</td><td></td></tr>\n",
       "<tr><td>11573</td><td>0.00000000</td><td>9514.50122920</td><td>3</td><td>2</td><td>4</td><td>16000</td><td></td></tr>\n",
       "<tr><td>11574</td><td>3814405.41359420</td><td>3828842.68072915</td><td>3</td><td>2</td><td>4</td><td>16000</td><td></td></tr>\n",
       "<tr><td>11575</td><td>4162418.69505497</td><td>4166398.15636326</td><td>3</td><td>2</td><td>4</td><td>16000</td><td></td></tr>\n",
       "<tr><td>11576</td><td>4752776.75990758</td><td>4754915.60364947</td><td>3</td><td>2</td><td>4</td><td>16000</td><td></td></tr>\n",
       "<tr><td>11577</td><td>5419253.19446238</td><td>5428543.74156557</td><td>3</td><td>2</td><td>4</td><td>16000</td><td></td></tr>\n",
       "<tr><td>11578</td><td>15174593.20720640</td><td>15181130.78549497</td><td>3</td><td>2</td><td>4</td><td>16000</td><td></td></tr>\n",
       "<tr><td>11579</td><td>16153361.98618307</td><td>16180032.74934088</td><td>3</td><td>2</td><td>4</td><td>16000</td><td></td></tr>\n",
       "<tr><td>11580</td><td>16225252.46975597</td><td>16226847.06187472</td><td>3</td><td>2</td><td>4</td><td>16000</td><td></td></tr>\n",
       "<tr><td>11581</td><td>16250662.70487287</td><td>16253652.68929577</td><td>3</td><td>2</td><td>4</td><td>16000</td><td></td></tr>\n",
       "<tr><td>11582</td><td>16256403.20226427</td><td>16257785.17552023</td><td>3</td><td>2</td><td>4</td><td>16000</td><td></td></tr>\n",
       "\n",
       "                    </tbody>\n",
       "                </table>\n",
       "            </div>\n",
       "        "
      ],
      "text/plain": [
       "<tskit.tables.MigrationTable at 0x122114a60>"
      ]
     },
     "execution_count": 14,
     "metadata": {},
     "output_type": "execute_result"
    }
   ],
   "source": [
    "# Print the number of start and stop positions for introgressed regions.\n",
    "print('There are {0} start and {1} stop positions for introgressed regions.'.format(len(ex_starts), len(ex_stops)))\n",
    "# Print out the migration table.\n",
    "ex_mts_f_03.tables.migrations"
   ]
  },
  {
   "cell_type": "markdown",
   "id": "8344b13d-11fa-4b71-8822-c147849b6048",
   "metadata": {},
   "source": [
    "Since all of our sanity checks look good lets generate this data!"
   ]
  },
  {
   "cell_type": "markdown",
   "id": "59b402ab-896b-4268-80be-0b067176508c",
   "metadata": {},
   "source": [
    "## Generating Simulated Data Sanity Checks\n",
    "First I will just come up with a toy example, do a sanity check, and then actually explain everything."
   ]
  },
  {
   "cell_type": "code",
   "execution_count": 15,
   "id": "de0d014c-c111-42d9-9743-3ee795e36fb0",
   "metadata": {},
   "outputs": [
    {
     "name": "stdout",
     "output_type": "stream",
     "text": [
      "Finished simulating rep 1!\n"
     ]
    }
   ],
   "source": [
    "# For 1 replicate.\n",
    "for rep in list(range(1, 2)):\n",
    "    # Simulate a tree sequence.\n",
    "    ts_f_03 = msprime.sim_ancestry(\n",
    "        samples=[\n",
    "            msprime.SampleSet(2, ploidy=1, population='AFR'), # Sample two haplotypes from AFR for our HMM.\n",
    "            msprime.SampleSet(1, ploidy=1, population='EUR'),\n",
    "            msprime.SampleSet(1, ploidy=1, population='NEA'),\n",
    "        ],\n",
    "        demography=iua_human_model(0.03), # Rate of introgression at 0.03.\n",
    "        sequence_length=20_000_000, # Generate 20 Mb haplotypes per samples.\n",
    "        recombination_rate=1e-8,\n",
    "        record_migrations=True, # Need this to keep track of what segments are introgressed.\n",
    "        discrete_genome=False,\n",
    "        random_seed=rep,\n",
    "    )\n",
    "    # Overlay mutations.\n",
    "    mts_f_03 = msprime.sim_mutations(\n",
    "        tree_sequence=ts_f_03, rate=1.5e-8,\n",
    "        model='jc69', random_seed=rep,\n",
    "        discrete_genome=False,\n",
    "    )\n",
    "    # Extract the genotype matrix.\n",
    "    genotype_matrix = mts_f_03.genotype_matrix()\n",
    "    # Save the genotype matrix.\n",
    "    np.savetxt(\n",
    "        './rep_id_{0}_geno_mat.csv.gz'.format(rep),\n",
    "        genotype_matrix,\n",
    "        fmt='%d',\n",
    "        delimiter=',',\n",
    "        )\n",
    "    # Extract the variable positions.\n",
    "    variable_positions = mts_f_03.tables.sites.position\n",
    "    # Save the variable positions.\n",
    "    np.savetxt(\n",
    "        './rep_id_{0}_var_pos.csv.gz'.format(rep),\n",
    "        [variable_positions],\n",
    "        fmt='%1.15f',\n",
    "        delimiter=',',\n",
    "        newline='\\n',\n",
    "    )\n",
    "    # Identify introgressed tracts.\n",
    "    ex_intro_tracts_array = intro_ls_tracts(\n",
    "        ts=mts_f_03,\n",
    "        donor_pop_id=2,\n",
    "        donor_samp_id=3,\n",
    "        recipient_samp_id=2,\n",
    "    )\n",
    "    # Save the introgressed segments.\n",
    "    np.savetxt(\n",
    "        './rep_id_{0}_intro_pos.csv.gz'.format(rep),\n",
    "        ex_intro_tracts_array,\n",
    "        fmt='%1.15f',\n",
    "        delimiter=',',\n",
    "        newline='\\n',\n",
    "    )\n",
    "    # Save the tree-sequence just for good measures.\n",
    "    mts_f_03.dump('./rep_id_{0}_mut_tree_seq.ts'.format(rep))\n",
    "    # Progress Checker\n",
    "    print('Finished simulating rep {0}!'.format(rep))"
   ]
  },
  {
   "cell_type": "markdown",
   "id": "62a688be-a330-483e-9855-078d7e47cc22",
   "metadata": {},
   "source": [
    "Cool cool cool, now lets just run one last sanity check."
   ]
  },
  {
   "cell_type": "code",
   "execution_count": 16,
   "id": "15a9796b-4945-44c2-84fa-ab631b20bc62",
   "metadata": {},
   "outputs": [
    {
     "data": {
      "text/html": [
       "\n",
       "            <div>\n",
       "              <style>\n",
       "                .tskit-table thead tr th {text-align: left;padding: 0.5em 0.5em;}\n",
       "                .tskit-table tbody tr td {padding: 0.5em 0.5em;}\n",
       "                .tskit-table tbody tr td:first-of-type {text-align: left;}\n",
       "                .tskit-details-label {vertical-align: top; padding-right:5px;}\n",
       "                .tskit-table-set {display: inline-flex;flex-wrap: wrap;margin: -12px 0 0 -12px;width: calc(100% + 12px);}\n",
       "                .tskit-table-set-table {margin: 12px 0 0 12px;}\n",
       "                details {display: inline-block;}\n",
       "                summary {cursor: pointer; outline: 0; display: list-item;}\n",
       "              </style>\n",
       "              <div class=\"tskit-table-set\">\n",
       "                <div class=\"tskit-table-set-table\">\n",
       "                  <table class=\"tskit-table\">\n",
       "                    <thead>\n",
       "                      <tr>\n",
       "                        <th style=\"padding:0;line-height:21px;\">\n",
       "                          <img style=\"height: 32px;display: inline-block;padding: 3px 5px 3px 0;\" src=\"https://raw.githubusercontent.com/tskit-dev/administrative/main/tskit_logo.svg\"/>\n",
       "                          <a target=\"_blank\" href=\"https://tskit.dev/tskit/docs/latest/python-api.html#the-treesequence-class\"> Tree Sequence </a>\n",
       "                        </th>\n",
       "                      </tr>\n",
       "                    </thead>\n",
       "                    <tbody>\n",
       "                      <tr><td>Trees</td><td>15271</td></tr>\n",
       "                      <tr><td>Sequence Length</td><td>20000000.0</td></tr>\n",
       "                      <tr><td>Time Units</td><td>generations</td></tr>\n",
       "                      <tr><td>Sample Nodes</td><td>4</td></tr>\n",
       "                      <tr><td>Total Size</td><td>4.3 MiB</td></tr>\n",
       "                      <tr>\n",
       "                        <td>Metadata</td><td style=\"text-align: left;\">No Metadata</td></tr>\n",
       "                    </tbody>\n",
       "                  </table>\n",
       "                </div>\n",
       "                <div class=\"tskit-table-set-table\">\n",
       "                  <table class=\"tskit-table\">\n",
       "                    <thead>\n",
       "                      <tr>\n",
       "                        <th style=\"line-height:21px;\">Table</th>\n",
       "                        <th>Rows</th>\n",
       "                        <th>Size</th>\n",
       "                        <th>Has Metadata</th>\n",
       "                      </tr>\n",
       "                    </thead>\n",
       "                    <tbody>\n",
       "                    \n",
       "                  <tr>\n",
       "                    <td>Edges</td>\n",
       "                      <td>42906</td>\n",
       "                      <td>1.3 MiB</td>\n",
       "                      <td style=\"text-align: center;\">\n",
       "                        \n",
       "                      </td>\n",
       "                    </tr>\n",
       "                \n",
       "                  <tr>\n",
       "                    <td>Individuals</td>\n",
       "                      <td>4</td>\n",
       "                      <td>136 Bytes</td>\n",
       "                      <td style=\"text-align: center;\">\n",
       "                        \n",
       "                      </td>\n",
       "                    </tr>\n",
       "                \n",
       "                  <tr>\n",
       "                    <td>Migrations</td>\n",
       "                      <td>11757</td>\n",
       "                      <td>505.2 KiB</td>\n",
       "                      <td style=\"text-align: center;\">\n",
       "                        \n",
       "                      </td>\n",
       "                    </tr>\n",
       "                \n",
       "                  <tr>\n",
       "                    <td>Mutations</td>\n",
       "                      <td>32971</td>\n",
       "                      <td>1.2 MiB</td>\n",
       "                      <td style=\"text-align: center;\">\n",
       "                        \n",
       "                      </td>\n",
       "                    </tr>\n",
       "                \n",
       "                  <tr>\n",
       "                    <td>Nodes</td>\n",
       "                      <td>9867</td>\n",
       "                      <td>269.8 KiB</td>\n",
       "                      <td style=\"text-align: center;\">\n",
       "                        \n",
       "                      </td>\n",
       "                    </tr>\n",
       "                \n",
       "                  <tr>\n",
       "                    <td>Populations</td>\n",
       "                      <td>5</td>\n",
       "                      <td>378 Bytes</td>\n",
       "                      <td style=\"text-align: center;\">\n",
       "                        ✅\n",
       "                      </td>\n",
       "                    </tr>\n",
       "                \n",
       "                  <tr>\n",
       "                    <td>Provenances</td>\n",
       "                      <td>2</td>\n",
       "                      <td>3.3 KiB</td>\n",
       "                      <td style=\"text-align: center;\">\n",
       "                        \n",
       "                      </td>\n",
       "                    </tr>\n",
       "                \n",
       "                  <tr>\n",
       "                    <td>Sites</td>\n",
       "                      <td>32971</td>\n",
       "                      <td>805.0 KiB</td>\n",
       "                      <td style=\"text-align: center;\">\n",
       "                        \n",
       "                      </td>\n",
       "                    </tr>\n",
       "                \n",
       "                    </tbody>\n",
       "                  </table>\n",
       "                </div>\n",
       "              </div>\n",
       "            </div>\n",
       "            "
      ],
      "text/plain": [
       "<tskit.trees.TreeSequence at 0x120f7bc40>"
      ]
     },
     "execution_count": 16,
     "metadata": {},
     "output_type": "execute_result"
    }
   ],
   "source": [
    "# Load the mutated tree sequence.\n",
    "rep_id_1_mts = tskit.load('./rep_id_1_mut_tree_seq.ts')\n",
    "# Load the variable positions.\n",
    "rep_id_1_var_pos = np.loadtxt('./rep_id_1_var_pos.csv.gz', delimiter=',')\n",
    "# Load the genotype matrix.\n",
    "rep_id_1_geno_mat = np.loadtxt('./rep_id_1_geno_mat.csv.gz', dtype=int, delimiter=',')\n",
    "# Load the introgressed region dataframe.\n",
    "rep_id_1_intro_pos_mat = np.loadtxt('./rep_id_1_intro_pos.csv.gz', delimiter=',')\n",
    "# Inspect the tree-sequence summary.\n",
    "rep_id_1_mts"
   ]
  },
  {
   "cell_type": "code",
   "execution_count": 17,
   "id": "66c23eb2-f7a2-4fc3-8c30-eb2badd8664e",
   "metadata": {},
   "outputs": [
    {
     "name": "stdout",
     "output_type": "stream",
     "text": [
      "It is True that the variable positions are the same and True that the genotype matrices are the same.\n"
     ]
    }
   ],
   "source": [
    "# Check to see if the variable positions and polarize genotype matricies are identical.\n",
    "var_pos_check = np.array_equal(rep_id_1_var_pos, rep_id_1_mts.tables.sites.position)\n",
    "geno_mat_check = np.array_equal(rep_id_1_geno_mat, rep_id_1_mts.genotype_matrix())\n",
    "# Print the sanity check.\n",
    "print('It is {0} that the variable positions are the same and {1} that the genotype matrices are the same.'.format(var_pos_check, geno_mat_check))"
   ]
  },
  {
   "cell_type": "markdown",
   "id": "4ac4aa45-ffb3-4d12-84d0-d749bc9b3f44",
   "metadata": {},
   "source": [
    "Lastly lets inspect that introgressed regions are correct."
   ]
  },
  {
   "cell_type": "code",
   "execution_count": 18,
   "id": "1229cffe-3009-459c-ba0e-385d89da2764",
   "metadata": {},
   "outputs": [
    {
     "data": {
      "text/plain": [
       "array([[ 4266802.40544982,  4270541.23239524],\n",
       "       [ 4273921.45499045,  4306920.58357239],\n",
       "       [ 6847730.76064027,  6851206.03338254],\n",
       "       [ 6859081.37492246,  6864195.34485407],\n",
       "       [ 6889736.03683847,  6896547.93517433],\n",
       "       [11575603.67786565, 11584807.05629304],\n",
       "       [12838859.15053039, 12890747.49401362],\n",
       "       [12908069.39080108, 12912870.13005533],\n",
       "       [17048073.24540014, 17054358.40521257],\n",
       "       [17056801.7422387 , 17084180.02323798],\n",
       "       [17092384.60895333, 17092803.77460343],\n",
       "       [17094817.83293084, 17106701.69422095],\n",
       "       [17637920.95040557, 17637980.55257846]])"
      ]
     },
     "execution_count": 18,
     "metadata": {},
     "output_type": "execute_result"
    }
   ],
   "source": [
    "# Exported table.\n",
    "rep_id_1_intro_pos_mat"
   ]
  },
  {
   "cell_type": "code",
   "execution_count": 19,
   "id": "f594d432-52b2-447f-8630-5fae1df7898b",
   "metadata": {},
   "outputs": [
    {
     "name": "stdout",
     "output_type": "stream",
     "text": [
      "Starts: [ 4266802.40544982  4273921.45499045  6847730.76064027  6859081.37492246\n",
      "  6889736.03683847 11575603.67786565 12838859.15053039 12908069.39080108\n",
      " 17048073.24540014 17056801.7422387  17092384.60895333 17094817.83293084\n",
      " 17637920.95040557]\n",
      "Stops: [ 4270541.23239524  4306920.58357239  6851206.03338254  6864195.34485407\n",
      "  6896547.93517433 11584807.05629304 12890747.49401362 12912870.13005533\n",
      " 17054358.40521257 17084180.02323798 17092803.77460343 17106701.69422095\n",
      " 17637980.55257846]\n"
     ]
    }
   ],
   "source": [
    "# Extract the panda columns into numpy arrays and round.\n",
    "rep_id_1_intro_starts = rep_id_1_intro_pos_mat[:,0]\n",
    "print('Starts: {0}'.format(rep_id_1_intro_starts))\n",
    "rep_id_1_intro_stops = rep_id_1_intro_pos_mat[:,1]\n",
    "print('Stops: {0}'.format(rep_id_1_intro_stops))"
   ]
  },
  {
   "cell_type": "code",
   "execution_count": 20,
   "id": "fd1747b6-27bc-43a3-8323-52a1b9b75839",
   "metadata": {},
   "outputs": [
    {
     "data": {
      "text/html": [
       "\n",
       "            <div>\n",
       "                <style scoped=\"\">\n",
       "                    .tskit-table tbody tr th:only-of-type {vertical-align: middle;}\n",
       "                    .tskit-table tbody tr th {vertical-align: top;}\n",
       "                    .tskit-table tbody td {text-align: right;padding: 0.5em 0.5em;}\n",
       "                    .tskit-table tbody th {padding: 0.5em 0.5em;}\n",
       "                </style>\n",
       "                <table border=\"1\" class=\"tskit-table\">\n",
       "                    <thead>\n",
       "                        <tr>\n",
       "                            <th>id</th><th>left</th><th>right</th><th>node</th><th>source</th><th>dest</th><th>time</th><th>metadata</th>\n",
       "                        </tr>\n",
       "                    </thead>\n",
       "                    <tbody>\n",
       "                        <tr><td>0</td><td>17048073.24540014</td><td>17124204.22858681</td><td>2</td><td>1</td><td>2</td><td>1600</td><td></td></tr>\n",
       "<tr><td>1</td><td>4266802.40544982</td><td>4306920.58357239</td><td>2</td><td>1</td><td>2</td><td>1600</td><td></td></tr>\n",
       "<tr><td>2</td><td>11575603.67786565</td><td>11584807.05629304</td><td>2</td><td>1</td><td>2</td><td>1600</td><td></td></tr>\n",
       "<tr><td>3</td><td>17614714.19041903</td><td>17637980.55257846</td><td>2</td><td>1</td><td>2</td><td>1600</td><td></td></tr>\n",
       "<tr><td>4</td><td>6847730.76064027</td><td>6900671.85646617</td><td>2</td><td>1</td><td>2</td><td>1600</td><td></td></tr>\n",
       "<tr><td>5</td><td>12838859.15053039</td><td>12920677.72946132</td><td>2</td><td>1</td><td>2</td><td>1600</td><td></td></tr>\n",
       "<tr><td>6</td><td>11978436.49893655</td><td>11996417.00681258</td><td>111</td><td>0</td><td>3</td><td>4000</td><td></td></tr>\n",
       "<tr><td>7</td><td>11996417.00681258</td><td>11996537.14914546</td><td>0</td><td>0</td><td>3</td><td>4000</td><td></td></tr>\n",
       "<tr><td>8</td><td>12000147.17796480</td><td>12020764.11448921</td><td>0</td><td>0</td><td>3</td><td>4000</td><td></td></tr>\n",
       "<tr><td>9</td><td>12020764.11448921</td><td>12106768.94586225</td><td>5</td><td>0</td><td>3</td><td>4000</td><td></td></tr>\n",
       "<tr><td>10</td><td>12106768.94586225</td><td>12119167.46329682</td><td>0</td><td>0</td><td>3</td><td>4000</td><td></td></tr>\n",
       "<tr><td>11</td><td>10243635.73802061</td><td>10257802.33990614</td><td>1</td><td>0</td><td>3</td><td>4000</td><td></td></tr>\n",
       "<tr><td>12</td><td>19159947.94818325</td><td>19313778.36340825</td><td>0</td><td>0</td><td>3</td><td>4000</td><td></td></tr>\n",
       "<tr><td>13</td><td>19405006.04519707</td><td>19407600.33877365</td><td>0</td><td>0</td><td>3</td><td>4000</td><td></td></tr>\n",
       "<tr><td>14</td><td>2112929.86915099</td><td>2136503.50983636</td><td>0</td><td>0</td><td>3</td><td>4000</td><td></td></tr>\n",
       "<tr><td>15</td><td>16815944.48890009</td><td>16828720.08759708</td><td>1</td><td>0</td><td>3</td><td>4000</td><td></td></tr>\n",
       "<tr><td>16</td><td>12790710.57901789</td><td>12851357.78709030</td><td>1</td><td>0</td><td>3</td><td>4000</td><td></td></tr>\n",
       "<tr><td>17</td><td>5183364.86359946</td><td>5193347.56369872</td><td>0</td><td>0</td><td>3</td><td>4000</td><td></td></tr>\n",
       "<tr><td>18</td><td>3143578.35904117</td><td>3206905.99612470</td><td>0</td><td>0</td><td>3</td><td>4000</td><td></td></tr>\n",
       "<tr><td>19</td><td>3206905.99612470</td><td>3219967.49314286</td><td>142</td><td>0</td><td>3</td><td>4000</td><td></td></tr>\n",
       "<tr><td style=\"text-align: center;\" colspan=\"109\"><em>11717 rows skipped (tskit.set_print_options)</em></td></tr>\n",
       "<tr><td>11737</td><td>2513951.95405774</td><td>2522125.29740068</td><td>3</td><td>2</td><td>4</td><td>16000</td><td></td></tr>\n",
       "<tr><td>11738</td><td>2719960.94773059</td><td>2723266.15872296</td><td>3</td><td>2</td><td>4</td><td>16000</td><td></td></tr>\n",
       "<tr><td>11739</td><td>2728193.09878271</td><td>2728744.87445249</td><td>3</td><td>2</td><td>4</td><td>16000</td><td></td></tr>\n",
       "<tr><td>11740</td><td>17497183.02142549</td><td>17503290.39857138</td><td>3</td><td>2</td><td>4</td><td>16000</td><td></td></tr>\n",
       "<tr><td>11741</td><td>17535935.93625605</td><td>17550316.51026683</td><td>3</td><td>2</td><td>4</td><td>16000</td><td></td></tr>\n",
       "<tr><td>11742</td><td>17620527.70257654</td><td>17630043.42701037</td><td>2</td><td>2</td><td>4</td><td>16000</td><td></td></tr>\n",
       "<tr><td>11743</td><td>18711474.29485871</td><td>18714005.41998433</td><td>3</td><td>2</td><td>4</td><td>16000</td><td></td></tr>\n",
       "<tr><td>11744</td><td>19276266.13241957</td><td>19293805.13844381</td><td>3</td><td>2</td><td>4</td><td>16000</td><td></td></tr>\n",
       "<tr><td>11745</td><td>19357359.24695035</td><td>19367432.32958040</td><td>3</td><td>2</td><td>4</td><td>16000</td><td></td></tr>\n",
       "<tr><td>11746</td><td>10983253.56554296</td><td>10992240.02299004</td><td>3</td><td>2</td><td>4</td><td>16000</td><td></td></tr>\n",
       "<tr><td>11747</td><td>1303376.78516727</td><td>1308065.30471525</td><td>3</td><td>2</td><td>4</td><td>16000</td><td></td></tr>\n",
       "<tr><td>11748</td><td>1319595.79599187</td><td>1326741.92990964</td><td>3</td><td>2</td><td>4</td><td>16000</td><td></td></tr>\n",
       "<tr><td>11749</td><td>0.00000000</td><td>4809.95168918</td><td>3</td><td>2</td><td>4</td><td>16000</td><td></td></tr>\n",
       "<tr><td>11750</td><td>18868900.17103283</td><td>18872785.63336258</td><td>3</td><td>2</td><td>4</td><td>16000</td><td></td></tr>\n",
       "<tr><td>11751</td><td>18876895.01991336</td><td>18879790.21375287</td><td>3</td><td>2</td><td>4</td><td>16000</td><td></td></tr>\n",
       "<tr><td>11752</td><td>18887118.10112000</td><td>18887684.66562839</td><td>3</td><td>2</td><td>4</td><td>16000</td><td></td></tr>\n",
       "<tr><td>11753</td><td>18889821.89765601</td><td>18914295.39315489</td><td>3</td><td>2</td><td>4</td><td>16000</td><td></td></tr>\n",
       "<tr><td>11754</td><td>18963574.67985237</td><td>18976002.98631439</td><td>3</td><td>2</td><td>4</td><td>16000</td><td></td></tr>\n",
       "<tr><td>11755</td><td>19006513.41639208</td><td>19012687.17613196</td><td>3</td><td>2</td><td>4</td><td>16000</td><td></td></tr>\n",
       "<tr><td>11756</td><td>19049870.41078068</td><td>19055107.91950758</td><td>3</td><td>2</td><td>4</td><td>16000</td><td></td></tr>\n",
       "\n",
       "                    </tbody>\n",
       "                </table>\n",
       "            </div>\n",
       "        "
      ],
      "text/plain": [
       "<tskit.tables.MigrationTable at 0x1221db1f0>"
      ]
     },
     "execution_count": 20,
     "metadata": {},
     "output_type": "execute_result"
    }
   ],
   "source": [
    "# Full migration table.\n",
    "rep_id_1_mts.tables.migrations"
   ]
  },
  {
   "cell_type": "code",
   "execution_count": null,
   "id": "dd133012-807c-4f62-aab1-3f51dc18c7f7",
   "metadata": {},
   "outputs": [],
   "source": []
  }
 ],
 "metadata": {
  "kernelspec": {
   "display_name": "Python 3 (ipykernel)",
   "language": "python",
   "name": "python3"
  },
  "language_info": {
   "codemirror_mode": {
    "name": "ipython",
    "version": 3
   },
   "file_extension": ".py",
   "mimetype": "text/x-python",
   "name": "python",
   "nbconvert_exporter": "python",
   "pygments_lexer": "ipython3",
   "version": "3.9.10"
  }
 },
 "nbformat": 4,
 "nbformat_minor": 5
}
