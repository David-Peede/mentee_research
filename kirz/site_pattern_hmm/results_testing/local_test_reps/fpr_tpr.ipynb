{
 "cells": [
  {
   "cell_type": "markdown",
   "id": "d52ba847-d61f-40da-b63a-61f0a096b44e",
   "metadata": {},
   "source": [
    "# Testing Notebook: Building the FPR/TPR matrices for Baum-Welch performance across multiple simulated reps"
   ]
  },
  {
   "cell_type": "markdown",
   "id": "fd449b6f-87d0-47ea-8990-d6af0504689b",
   "metadata": {},
   "source": [
    "---\n",
    "## Purpose of Notebook\n",
    "(Predone) Locally download a few sample rep ids and construct two tables for each of them measuring the True Positive Rate and False Positive Rate across iterations of Baum-Welch, facilitating averaging."
   ]
  },
  {
   "cell_type": "code",
   "execution_count": 77,
   "id": "be3c9a59-fc6a-4876-be4e-f1f2818f6d66",
   "metadata": {},
   "outputs": [
    {
     "name": "stdout",
     "output_type": "stream",
     "text": [
      "numpy 1.22.3\n",
      "gzip 1.22.3\n",
      "math 1.22.3\n"
     ]
    }
   ],
   "source": [
    "# Import packages.\n",
    "import sys\n",
    "import numpy as np\n",
    "import gzip\n",
    "import math\n",
    "\n",
    "# Print versions of our libraries.\n",
    "print('numpy', np.__version__)\n",
    "print('gzip', np.__version__)\n",
    "print('math', np.__version__)"
   ]
  },
  {
   "cell_type": "markdown",
   "id": "05129eb8-940a-4367-9821-f818fd5298c7",
   "metadata": {},
   "source": [
    "---\n",
    "## Function Descriptions"
   ]
  },
  {
   "cell_type": "markdown",
   "id": "ac2ba3c3-5cbe-4335-8fd3-c01b99fac980",
   "metadata": {},
   "source": [
    "---\n",
    "### `post_convergence_nan()`\n",
    "#### Purpose:\n",
    "`post_convergence_nan()` converts all values in a results file after Baum-Welch has converged to np.nan values to faciliate averaging later by starting at the rightmost column and moving left until it encounters a column with a nonzero value.\n",
    "#### Input:\n",
    "- `rep_filepath`: a filepath to a rep that needs to have its post-convergence values converted from 0 to np.nan\n",
    "#### Output:\n",
    "- `nan_results`: a nparray of the exact same results, but with all post-convergnece 0 values converted to np.nan\n",
    "- `convergence_index`: the first column in the array containing nan values\n",
    "\n",
    "\n",
    "# NOTE: Long-term fix is to actually convert the values to Nan in the Hmm function itself"
   ]
  },
  {
   "cell_type": "code",
   "execution_count": 78,
   "id": "64cb3ce8-45f6-45c8-b267-459099b08e17",
   "metadata": {},
   "outputs": [],
   "source": [
    "def post_convergence_nan(rep_filepath):\n",
    "    rep = np.genfromtxt(rep_filepath, \n",
    "                    delimiter='\\t', \n",
    "                   )\n",
    "    \n",
    "    convergence_index = -1\n",
    "    # iterates over each column of the array in reverse order (right to left)\n",
    "    for c in range (len(rep[0])-1, -1, -1):\n",
    "        # print(rep[:, c])\n",
    "        # print(convergence_index)  \n",
    "        # print(not np.all(rep[:, c]==0))\n",
    "        if not np.all(rep[:, c]==0) and convergence_index == -1:\n",
    "            # TODO: set the convergence index as the column to the right of where the first nonzero values are found\n",
    "            convergence_index = c + 1\n",
    "    \n",
    "    # go through the matrix from the convergence_index column to the right and fill with nans\n",
    "    for n in range(convergence_index, len(rep[0])):\n",
    "        rep[:, n] = np.nan\n",
    "\n",
    "    # TODO: convert all values in the array from that column on to np.nan\n",
    "    return rep"
   ]
  },
  {
   "cell_type": "markdown",
   "id": "e489fb45-ba13-48a4-8713-540e42a7f6d5",
   "metadata": {},
   "source": [
    "---\n",
    "### `cross_rep_performance()`\n",
    "#### Purpose:\n",
    "`cross_rep_performance()` creates a table measuring the total True Positive Rate of a given iteration of Baum-Welch across simulations.\n",
    "#### Input:\n",
    "- `rep_array`: an array of nparrays representing the reps (assuming they have already been converted to nan\n",
    "#### Output:\n",
    "- `tpr_array`: an nparray with dimensions `(R X B)`, where `R` is the number of reps being measured and `B` is the Baum-Welch optimization limit set when the HMM was run (in this case 100). The value at each position corresponds to the overall True Positive Rate given by $\\gamma$ after `B` many iterations of Baum-Welch. TPR values in columns after convergence will be equivalent to `np.nan`.\n",
    "- `fpr_array`: same as above, but for the False Positive Rate instead."
   ]
  },
  {
   "cell_type": "code",
   "execution_count": 83,
   "id": "2298e1d7-65e4-4956-955f-011518054642",
   "metadata": {},
   "outputs": [],
   "source": [
    "def cross_rep_performance(rep_array):\n",
    "    # NOTE: Should threshold be an input?\n",
    "    threshold = .9\n",
    "    \n",
    "    # Tpr array has dimensions (# of reps X # of max baum-welch iterations)\n",
    "    num_reps = len(rep_array)\n",
    "    max_iter = len(rep_array[0][0])-4\n",
    "    tpr_array = np.zeros((num_reps, max_iter))\n",
    "    fpr_array = np.zeros((num_reps, max_iter))\n",
    "    \n",
    "    for rep in range(0, num_reps):\n",
    "        for gamma in range(4, max_iter+4):\n",
    "            # set up the false positives and false negatives for this gamma\n",
    "            fp = 0  # number of false positives\n",
    "            fn = 0  # number of false negatives\n",
    "            tp = 0  # number of true postivies\n",
    "            tn = 0  # number of true negatives\n",
    "            # for each window in the total number (should be 40k)\n",
    "            for w in range(0, len(rep_array[0])):\n",
    "                # the percentage of true introgression at that window\n",
    "                true_val = rep_array[rep][w][2]\n",
    "                # the percentage introgression guessed by the model at that gamma\n",
    "                gamma_val = rep_array[rep][w][gamma]\n",
    "                \n",
    "                # we have to check to see if we're post-convergence, in which case the performance values are not applicable\n",
    "                post_convergence = False\n",
    "                if math.isnan(gamma_val):\n",
    "                    post_convergence = True\n",
    "                    break\n",
    "\n",
    "                # Underlying window is partially or completely introgressed\n",
    "                if 0 < true_val <= 1.:\n",
    "                    # true positive\n",
    "                    if gamma_val >= threshold:\n",
    "                        tp += 1\n",
    "                    # false negative\n",
    "                    else:\n",
    "                        fn += 1\n",
    "                # Underlying window is not 100% introgressed\n",
    "                elif true_val == 0:\n",
    "                    # false positive\n",
    "                    if gamma_val >= threshold:\n",
    "                        fp += 1\n",
    "                    # true negative\n",
    "                    else:\n",
    "                        tn += 1\n",
    "                else:\n",
    "                    print(\"Error in eval: window shows introgression percentage below zero or above 1\")\n",
    "            \n",
    "            # once the loop is over, calculate the TPR/FPR\n",
    "            # no relevant information for this loop, populate with nans.\n",
    "            if post_convergence:\n",
    "                fpr_array[rep][gamma-4] = np.nan\n",
    "                tpr_array[rep][gamma-4] = np.nan\n",
    "            # normal case\n",
    "            else:\n",
    "                fpr = fp / (fp + tn)\n",
    "                tpr = tp / (tp + fn)\n",
    "                fpr_array[rep][gamma-4] = fpr\n",
    "                tpr_array[rep][gamma-4] = tpr\n",
    "\n",
    "    return fpr_array, tpr_array"
   ]
  },
  {
   "cell_type": "markdown",
   "id": "89049423-9b1a-4211-ba5a-dc7da501ef88",
   "metadata": {},
   "source": [
    "---\n",
    "### `average_performances()`\n",
    "#### Purpose:\n",
    "`average_performances()` will take the average of all True Positive Rates or False Positive Rates of different Baum-Welch iteration steps across reps in order to evaluate the accuracy of the model. It is `np.nan`-agnostic, meaning it will simply ignore the performances of those that have already converged into its averages.\n",
    "#### Input:\n",
    "- `performance_rates()`: an nparray with dimensions `(R X B)`, where `R` is the number of reps being measured and `B` is the Baum-Welch optimization limit set when the HMM was run (in this case 100). The value at each position corresponds to the overall False/True Positive Rate given by $\\gamma$ after `B` many iterations of Baum-Welch. FPR/TPR values in columns after convergence will be equivalent to `np.nan`.\n",
    "#### Output:\n",
    "- `averaged_performances`: an nparray with dimensions `(1 X B)`, where `B` is the Baum-Welch optimization limit set when the HMM was run (in this case 100). The value at each position corresponse to the average False/True Postive Rate measured across all calculated reps."
   ]
  },
  {
   "cell_type": "code",
   "execution_count": null,
   "id": "0824931b-27e4-4d50-8228-a3067ab12adb",
   "metadata": {},
   "outputs": [],
   "source": [
    "def average_performances(performance_rates):\n",
    "    \n",
    "    \n",
    "    return averaged_performances"
   ]
  },
  {
   "cell_type": "markdown",
   "id": "f056ccdb-65be-4a28-a5cd-8267ddd2dc0b",
   "metadata": {},
   "source": [
    "---\n",
    "## Walkthrough"
   ]
  },
  {
   "cell_type": "code",
   "execution_count": 60,
   "id": "94e15bba-e72e-4268-9b5d-437b88b69ec5",
   "metadata": {},
   "outputs": [],
   "source": [
    "# (Hardcoded) download the necessary files - reps are represented in nparray form after post_convergence_nan()\n",
    "rep1 = post_convergence_nan('/Users/briankirz/Documents/GitHub/mentee_research/kirz/site_pattern_hmm/results_testing/local_test_reps/prufer_results_rep_id_1.csv.gz')\n",
    "rep2 = post_convergence_nan('/Users/briankirz/Documents/GitHub/mentee_research/kirz/site_pattern_hmm/results_testing/local_test_reps/prufer_results_rep_id_2.csv.gz')\n",
    "rep3 = post_convergence_nan('/Users/briankirz/Documents/GitHub/mentee_research/kirz/site_pattern_hmm/results_testing/local_test_reps/prufer_results_rep_id_3.csv.gz')\n",
    "rep4 = post_convergence_nan('/Users/briankirz/Documents/GitHub/mentee_research/kirz/site_pattern_hmm/results_testing/local_test_reps/prufer_results_rep_id_4.csv.gz')\n",
    "# Assemble the test reps into an array\n",
    "reps = np.array([rep1, rep2, rep3, rep4])\n"
   ]
  },
  {
   "cell_type": "code",
   "execution_count": 84,
   "id": "9dc76f32-a20e-45c4-b19a-515c60924189",
   "metadata": {},
   "outputs": [],
   "source": [
    "    rep = np.genfromtxt('/Users/briankirz/Documents/GitHub/mentee_research/kirz/site_pattern_hmm/results_testing/local_test_reps/prufer_results_rep_id_4.csv.gz', delimiter='\\t')"
   ]
  },
  {
   "cell_type": "code",
   "execution_count": 65,
   "id": "f2622da5-d654-4a56-be70-56b00774b47c",
   "metadata": {},
   "outputs": [
    {
     "name": "stdout",
     "output_type": "stream",
     "text": [
      "40000\n",
      "(40000, 104)\n"
     ]
    }
   ],
   "source": [
    "# print(len(reps[0]))\n",
    "# print(reps[0].shape)"
   ]
  },
  {
   "cell_type": "code",
   "execution_count": 68,
   "id": "11a4ded6-9a55-4c95-be80-c9852affe3ce",
   "metadata": {},
   "outputs": [
    {
     "name": "stdout",
     "output_type": "stream",
     "text": [
      "nan\n"
     ]
    }
   ],
   "source": [
    "# print(reps[0][0][64])"
   ]
  },
  {
   "cell_type": "code",
   "execution_count": 81,
   "id": "30116339-e2f9-49d2-8d44-65a6d65f4014",
   "metadata": {},
   "outputs": [
    {
     "data": {
      "text/plain": [
       "array([[0.00000000e+00, 0.00000000e+00, 0.00000000e+00, 0.00000000e+00,\n",
       "        0.00000000e+00, 0.00000000e+00, 5.04286435e-05, 5.04286435e-05,\n",
       "        5.04286435e-05, 5.04286435e-05, 1.00857287e-04, 1.00857287e-04,\n",
       "        1.00857287e-04, 1.26071609e-04, 7.81643974e-04, 8.82501261e-04,\n",
       "        1.13464448e-03, 1.71457388e-03, 2.11800303e-03, 2.39536056e-03,\n",
       "        3.05093293e-03, 3.70650530e-03, 4.10993444e-03, 4.38729198e-03,\n",
       "        4.56379223e-03, 4.81593545e-03, 5.01765003e-03, 5.54715078e-03,\n",
       "        6.07665154e-03, 6.35400908e-03, 6.40443772e-03, 6.50529501e-03,\n",
       "        6.75743822e-03, 6.98436712e-03, 7.03479576e-03, 7.26172466e-03,\n",
       "        7.53908220e-03, 7.69036813e-03, 7.71558245e-03, 7.84165406e-03,\n",
       "        7.91729702e-03, 8.06858296e-03, 8.16944024e-03, 8.19465456e-03,\n",
       "        8.24508321e-03, 8.29551185e-03, 8.39636914e-03, 8.44679778e-03,\n",
       "        8.64851236e-03, 8.69894100e-03, 8.72415532e-03, 8.74936964e-03,\n",
       "        8.74936964e-03, 8.74936964e-03, 8.95108422e-03, 9.02672718e-03,\n",
       "        9.12758447e-03, 9.15279879e-03, 9.15279879e-03, 9.15279879e-03,\n",
       "                   nan,            nan,            nan,            nan,\n",
       "                   nan,            nan,            nan,            nan,\n",
       "                   nan,            nan,            nan,            nan,\n",
       "                   nan,            nan,            nan,            nan,\n",
       "                   nan,            nan,            nan,            nan,\n",
       "                   nan,            nan,            nan,            nan,\n",
       "                   nan,            nan,            nan,            nan,\n",
       "                   nan,            nan,            nan,            nan,\n",
       "                   nan,            nan,            nan,            nan,\n",
       "                   nan,            nan,            nan,            nan],\n",
       "       [0.00000000e+00, 0.00000000e+00, 0.00000000e+00, 0.00000000e+00,\n",
       "        0.00000000e+00, 0.00000000e+00, 0.00000000e+00, 5.02285399e-05,\n",
       "        5.02285399e-05, 2.26028429e-04, 3.51599779e-04, 4.77171129e-04,\n",
       "        5.77628208e-04, 1.33105631e-03, 1.58219901e-03, 1.65754182e-03,\n",
       "        1.73288463e-03, 1.83334170e-03, 2.86302677e-03, 3.36531217e-03,\n",
       "        3.61645487e-03, 3.84248330e-03, 4.69636848e-03, 5.04796826e-03,\n",
       "        5.57536792e-03, 6.05253905e-03, 6.32879602e-03, 6.60505299e-03,\n",
       "        6.80596715e-03, 7.25802401e-03, 7.55939525e-03, 8.01145211e-03,\n",
       "        8.58908032e-03, 8.89045155e-03, 9.09136571e-03, 9.26716560e-03,\n",
       "        9.69410819e-03, 1.00959365e-02, 1.02466221e-02, 1.04475363e-02,\n",
       "        1.05479934e-02, 1.07991361e-02, 1.09247074e-02, 1.10000502e-02,\n",
       "        1.11256216e-02, 1.13516500e-02, 1.14772214e-02, 1.17283641e-02,\n",
       "        1.18288211e-02, 1.19292782e-02, 1.19795068e-02, 1.20548496e-02,\n",
       "        1.22306495e-02, 1.22557637e-02, 1.23059923e-02, 1.24817922e-02,\n",
       "        1.27078206e-02, 1.28333919e-02, 1.30594204e-02, 1.30845346e-02,\n",
       "        1.31849917e-02, 1.31849917e-02, 1.34361344e-02, 1.35114772e-02,\n",
       "        1.36370486e-02, 1.36370486e-02, 1.38379627e-02, 1.39133055e-02,\n",
       "        1.40388769e-02, 1.41142197e-02, 1.42397910e-02, 1.43402481e-02,\n",
       "        1.43402481e-02, 1.44155909e-02, 1.45913908e-02, 1.63242755e-02,\n",
       "        1.63493897e-02, 1.63996183e-02, 1.65251896e-02, 1.65251896e-02,\n",
       "        1.65251896e-02, 1.65503039e-02, 1.65503039e-02, 1.65754182e-02,\n",
       "        1.65754182e-02, 1.66758752e-02, 1.66758752e-02, 1.67009895e-02,\n",
       "        1.67261038e-02,            nan,            nan,            nan,\n",
       "                   nan,            nan,            nan,            nan,\n",
       "                   nan,            nan,            nan,            nan],\n",
       "       [0.00000000e+00, 0.00000000e+00, 7.70218228e-05, 7.70218228e-05,\n",
       "        2.31065469e-04, 3.85109114e-04, 5.13478819e-04, 8.98587933e-04,\n",
       "        1.23234917e-03, 2.05391528e-03, 2.33632863e-03, 2.56739409e-03,\n",
       "        3.51732991e-03, 3.69704750e-03, 3.92811297e-03, 4.77535302e-03,\n",
       "        5.05776637e-03, 5.75096277e-03, 6.44415918e-03, 6.80359435e-03,\n",
       "        7.18870347e-03, 7.85622593e-03, 8.57509628e-03, 9.11424904e-03,\n",
       "        9.85879332e-03, 1.06546855e-02, 1.12708601e-02, 1.16816431e-02,\n",
       "        1.20667522e-02, 1.23234917e-02, 1.25545571e-02, 1.26829268e-02,\n",
       "        1.28112965e-02, 1.30423620e-02, 1.32220796e-02, 1.33247754e-02,\n",
       "        1.34531451e-02, 1.35044929e-02, 1.35815148e-02, 1.36585366e-02,\n",
       "        1.37355584e-02, 1.38125802e-02, 1.38382542e-02, 1.38639281e-02,\n",
       "        1.39152760e-02, 1.41463415e-02, 1.42233633e-02, 1.42233633e-02,\n",
       "        1.43260591e-02, 1.43774069e-02, 1.43774069e-02,            nan,\n",
       "                   nan,            nan,            nan,            nan,\n",
       "                   nan,            nan,            nan,            nan,\n",
       "                   nan,            nan,            nan,            nan,\n",
       "                   nan,            nan,            nan,            nan,\n",
       "                   nan,            nan,            nan,            nan,\n",
       "                   nan,            nan,            nan,            nan,\n",
       "                   nan,            nan,            nan,            nan,\n",
       "                   nan,            nan,            nan,            nan,\n",
       "                   nan,            nan,            nan,            nan,\n",
       "                   nan,            nan,            nan,            nan,\n",
       "                   nan,            nan,            nan,            nan,\n",
       "                   nan,            nan,            nan,            nan],\n",
       "       [0.00000000e+00, 0.00000000e+00, 0.00000000e+00, 0.00000000e+00,\n",
       "        0.00000000e+00, 0.00000000e+00, 0.00000000e+00, 0.00000000e+00,\n",
       "        0.00000000e+00, 0.00000000e+00, 0.00000000e+00, 0.00000000e+00,\n",
       "        0.00000000e+00, 0.00000000e+00, 4.56239069e-04, 4.56239069e-04,\n",
       "        4.56239069e-04, 4.56239069e-04, 4.56239069e-04, 4.56239069e-04,\n",
       "        4.56239069e-04, 4.56239069e-04, 5.06932299e-04, 5.06932299e-04,\n",
       "        7.09705219e-04, 7.35051834e-04, 7.85745064e-04, 8.61784909e-04,\n",
       "        1.01386460e-03, 1.06455783e-03, 1.41941044e-03, 2.17980889e-03,\n",
       "        2.94020734e-03, 3.39644640e-03, 3.64991255e-03, 4.30892454e-03,\n",
       "        5.17070945e-03, 5.90576129e-03, 6.28596051e-03, 6.51408004e-03,\n",
       "        6.53942666e-03, 6.69150635e-03, 6.86893265e-03, 7.14774542e-03,\n",
       "        7.22378526e-03, 7.32517172e-03, 7.37586495e-03, 7.50259803e-03,\n",
       "        7.65467772e-03, 7.85745064e-03, 7.85745064e-03, 7.85745064e-03,\n",
       "        7.85745064e-03, 7.90814387e-03, 7.93349048e-03,            nan,\n",
       "                   nan,            nan,            nan,            nan,\n",
       "                   nan,            nan,            nan,            nan,\n",
       "                   nan,            nan,            nan,            nan,\n",
       "                   nan,            nan,            nan,            nan,\n",
       "                   nan,            nan,            nan,            nan,\n",
       "                   nan,            nan,            nan,            nan,\n",
       "                   nan,            nan,            nan,            nan,\n",
       "                   nan,            nan,            nan,            nan,\n",
       "                   nan,            nan,            nan,            nan,\n",
       "                   nan,            nan,            nan,            nan,\n",
       "                   nan,            nan,            nan,            nan]])"
      ]
     },
     "execution_count": 81,
     "metadata": {},
     "output_type": "execute_result"
    }
   ],
   "source": [
    "cross_rep_performance(reps)[0]"
   ]
  },
  {
   "cell_type": "code",
   "execution_count": 21,
   "id": "b9e92fe1-cce8-44ab-94a2-6244c1e5c37e",
   "metadata": {},
   "outputs": [
    {
     "data": {
      "text/plain": [
       "(4, 40000, 104)"
      ]
     },
     "execution_count": 21,
     "metadata": {},
     "output_type": "execute_result"
    }
   ],
   "source": []
  },
  {
   "cell_type": "code",
   "execution_count": null,
   "id": "f16420d8-2edd-4991-9b37-bee06c19ab65",
   "metadata": {},
   "outputs": [],
   "source": []
  }
 ],
 "metadata": {
  "kernelspec": {
   "display_name": "Python 3 (ipykernel)",
   "language": "python",
   "name": "python3"
  },
  "language_info": {
   "codemirror_mode": {
    "name": "ipython",
    "version": 3
   },
   "file_extension": ".py",
   "mimetype": "text/x-python",
   "name": "python",
   "nbconvert_exporter": "python",
   "pygments_lexer": "ipython3",
   "version": "3.9.10"
  }
 },
 "nbformat": 4,
 "nbformat_minor": 5
}
