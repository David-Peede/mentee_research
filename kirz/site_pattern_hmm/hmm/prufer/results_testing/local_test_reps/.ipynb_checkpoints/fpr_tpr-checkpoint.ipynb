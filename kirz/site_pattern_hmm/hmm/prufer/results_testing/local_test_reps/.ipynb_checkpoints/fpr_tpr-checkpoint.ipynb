{
 "cells": [
  {
   "cell_type": "markdown",
   "id": "d52ba847-d61f-40da-b63a-61f0a096b44e",
   "metadata": {},
   "source": [
    "# Testing Notebook: Building the FPR/TPR matrices for Baum-Welch performance across multiple simulated reps"
   ]
  },
  {
   "cell_type": "markdown",
   "id": "fd449b6f-87d0-47ea-8990-d6af0504689b",
   "metadata": {},
   "source": [
    "---\n",
    "## Purpose of Notebook\n",
    "(Predone) Locally download a few sample rep ids and construct two tables for each of them measuring the True Positive Rate and False Positive Rate across iterations of Baum-Welch, facilitating averaging."
   ]
  },
  {
   "cell_type": "code",
   "execution_count": 4,
   "id": "be3c9a59-fc6a-4876-be4e-f1f2818f6d66",
   "metadata": {},
   "outputs": [
    {
     "name": "stdout",
     "output_type": "stream",
     "text": [
      "numpy 1.22.3\n",
      "gzip 1.22.3\n"
     ]
    }
   ],
   "source": [
    "# Import packages.\n",
    "import sys\n",
    "import numpy as np\n",
    "import gzip\n",
    "\n",
    "# Print versions of our libraries.\n",
    "print('numpy', np.__version__)\n",
    "print('gzip', np.__version__)"
   ]
  },
  {
   "cell_type": "markdown",
   "id": "05129eb8-940a-4367-9821-f818fd5298c7",
   "metadata": {},
   "source": [
    "---\n",
    "## Function Descriptions"
   ]
  },
  {
   "cell_type": "markdown",
   "id": "ac2ba3c3-5cbe-4335-8fd3-c01b99fac980",
   "metadata": {},
   "source": [
    "---\n",
    "### `post_convergence_nan()`\n",
    "#### Purpose:\n",
    "`post_convergence_nan()` converts all values in a results file after Baum-Welch has converged to np.nan values to faciliate averaging later by starting at the rightmost column and moving left until it encounters a column with a nonzero value.\n",
    "#### Input:\n",
    "- `rep_filepath`: a filepath to a rep that needs to have its post-convergence values converted from 0 to np.nan\n",
    "#### Output:\n",
    "- `nan_results`: a nparray of the exact same results, but with all post-convergnece 0 values converted to np.nan\n",
    "- `convergence_index`: the first column in the array containing nan values\n",
    "\n",
    "\n",
    "# NOTE: Long-term fix is to actually convert the values to Nan in the Hmm function itself"
   ]
  },
  {
   "cell_type": "code",
   "execution_count": 125,
   "id": "64cb3ce8-45f6-45c8-b267-459099b08e17",
   "metadata": {},
   "outputs": [],
   "source": [
    "def post_convergence_nan(rep_filepath):\n",
    "    rep = np.genfromtxt(rep_filepath, \n",
    "                    delimiter='\\t', \n",
    "                   )\n",
    "    \n",
    "    convergence_index = -1\n",
    "    # iterates over each column of the array in reverse order (right to left)\n",
    "    for c in range (len(rep[0])-1, -1, -1):\n",
    "        # print(rep[:, c])\n",
    "        # print(convergence_index)  \n",
    "        # print(not np.all(rep[:, c]==0))\n",
    "        if not np.all(rep[:, c]==0) and convergence_index == -1:\n",
    "            # TODO: set the convergence index as the column to the right of where the first nonzero values are found\n",
    "            convergence_index = c + 1\n",
    "    \n",
    "    # go through the matrix from the convergence_index column to the right and fill with nans\n",
    "    for n in range(convergence_index, len(rep[0])):\n",
    "        rep[:, n] = np.nan\n",
    "\n",
    "    # TODO: convert all values in the array from that column on to np.nan\n",
    "    return rep"
   ]
  },
  {
   "cell_type": "markdown",
   "id": "e489fb45-ba13-48a4-8713-540e42a7f6d5",
   "metadata": {},
   "source": [
    "---\n",
    "### `cross_rep_TPR()`\n",
    "#### Purpose:\n",
    "`cross_rep_TPR()` creates a table measuring the total True Positive Rate of a given iteration of Baum-Welch across simulations.\n",
    "#### Input:\n",
    "- `rep_array`: an array of nparrays representing the reps (assuming they have already been converted to nan\n",
    "#### Output:\n",
    "- `tpr`: an nparray with dimensions `(R X B)`, where `R` is the number of reps being measured and `B` is the Baum-Welch optimization limit set when the HMM was run (in this case). The value at each position corresponds to the overall True Positive Rate given by $\\gamma$ after `B` many iterations of Baum-Welch. TPR values in columns after convergence will be equivalent to np.nan."
   ]
  },
  {
   "cell_type": "code",
   "execution_count": null,
   "id": "2298e1d7-65e4-4956-955f-011518054642",
   "metadata": {},
   "outputs": [],
   "source": []
  },
  {
   "cell_type": "code",
   "execution_count": null,
   "id": "19c5351e-ce48-406a-991e-d52ad7e866e7",
   "metadata": {},
   "outputs": [],
   "source": []
  },
  {
   "cell_type": "code",
   "execution_count": null,
   "id": "0824931b-27e4-4d50-8228-a3067ab12adb",
   "metadata": {},
   "outputs": [],
   "source": []
  },
  {
   "cell_type": "markdown",
   "id": "f056ccdb-65be-4a28-a5cd-8267ddd2dc0b",
   "metadata": {},
   "source": [
    "---\n",
    "## Walkthrough"
   ]
  },
  {
   "cell_type": "code",
   "execution_count": 118,
   "id": "94e15bba-e72e-4268-9b5d-437b88b69ec5",
   "metadata": {},
   "outputs": [],
   "source": [
    "# (Hardcoded) download the necessary files - reps are represented in nparray form after post_convergence_nan()\n",
    "rep1 = post_convergence_nan('/Users/briankirz/Documents/GitHub/mentee_research/kirz/site_pattern_hmm/results_testing/local_test_reps/prufer_results_rep_id_1.csv.gz')\n",
    "# rep2 = post_convergence_nan('/Users/briankirz/Documents/GitHub/mentee_research/kirz/site_pattern_hmm/results_testing/local_test_reps/prufer_results_rep_id_2.csv.gz')\n",
    "# rep3 = post_convergence_nan('/Users/briankirz/Documents/GitHub/mentee_research/kirz/site_pattern_hmm/results_testing/local_test_reps/prufer_results_rep_id_3.csv.gz')\n",
    "# rep4 = post_convergence_nan('/Users/briankirz/Documents/GitHub/mentee_research/kirz/site_pattern_hmm/results_testing/local_test_reps/prufer_results_rep_id_4.csv.gz')"
   ]
  },
  {
   "cell_type": "code",
   "execution_count": 124,
   "id": "67970a98-0ba0-4ecb-9eaf-026f89181eb5",
   "metadata": {},
   "outputs": [
    {
     "ename": "IndexError",
     "evalue": "index 104 is out of bounds for axis 1 with size 104",
     "output_type": "error",
     "traceback": [
      "\u001b[0;31m---------------------------------------------------------------------------\u001b[0m",
      "\u001b[0;31mIndexError\u001b[0m                                Traceback (most recent call last)",
      "Input \u001b[0;32mIn [124]\u001b[0m, in \u001b[0;36m<cell line: 1>\u001b[0;34m()\u001b[0m\n\u001b[0;32m----> 1\u001b[0m \u001b[43mrep1\u001b[49m\u001b[43m[\u001b[49m\u001b[43m:\u001b[49m\u001b[43m,\u001b[49m\u001b[43m \u001b[49m\u001b[38;5;241;43m104\u001b[39;49m\u001b[43m]\u001b[49m\n",
      "\u001b[0;31mIndexError\u001b[0m: index 104 is out of bounds for axis 1 with size 104"
     ]
    }
   ],
   "source": []
  },
  {
   "cell_type": "markdown",
   "id": "ef615e24-0003-4537-aafe-882f77384a1f",
   "metadata": {},
   "source": []
  },
  {
   "cell_type": "code",
   "execution_count": null,
   "id": "d1478a3b-1ae0-4eb4-94d3-67b66bd2c171",
   "metadata": {},
   "outputs": [],
   "source": []
  },
  {
   "cell_type": "code",
   "execution_count": 74,
   "id": "30116339-e2f9-49d2-8d44-65a6d65f4014",
   "metadata": {},
   "outputs": [],
   "source": [
    "def cross_rep_TPR(r1, r2, r3, r4):\n",
    "    reps = np.array([r1, r2, r3, r4])\n",
    "    return reps"
   ]
  },
  {
   "cell_type": "code",
   "execution_count": 21,
   "id": "b9e92fe1-cce8-44ab-94a2-6244c1e5c37e",
   "metadata": {},
   "outputs": [
    {
     "data": {
      "text/plain": [
       "(4, 40000, 104)"
      ]
     },
     "execution_count": 21,
     "metadata": {},
     "output_type": "execute_result"
    }
   ],
   "source": [
    "cross_rep_TPR(rep1, rep2, rep3, rep4).shape"
   ]
  },
  {
   "cell_type": "code",
   "execution_count": null,
   "id": "f16420d8-2edd-4991-9b37-bee06c19ab65",
   "metadata": {},
   "outputs": [],
   "source": []
  }
 ],
 "metadata": {
  "kernelspec": {
   "display_name": "Python 3 (ipykernel)",
   "language": "python",
   "name": "python3"
  },
  "language_info": {
   "codemirror_mode": {
    "name": "ipython",
    "version": 3
   },
   "file_extension": ".py",
   "mimetype": "text/x-python",
   "name": "python",
   "nbconvert_exporter": "python",
   "pygments_lexer": "ipython3",
   "version": "3.9.10"
  }
 },
 "nbformat": 4,
 "nbformat_minor": 5
}
