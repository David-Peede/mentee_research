{
 "cells": [
  {
   "cell_type": "code",
   "execution_count": 1,
   "id": "74341b80-2034-412e-b653-046e7c6b96ae",
   "metadata": {},
   "outputs": [],
   "source": [
    "import sys\n",
    "import numpy as np\n",
    "import gzip\n",
    "import matplotlib.pyplot as plt"
   ]
  },
  {
   "cell_type": "code",
   "execution_count": 2,
   "id": "55009ee9-4001-430c-93d8-73abcef29483",
   "metadata": {},
   "outputs": [],
   "source": [
    "# Define a function to split a genotype matrix into non-overlapping windows.\n",
    "def genotype_matrix_windows(\n",
    "        variant_positions,\n",
    "        polarized_genotype_matrix,\n",
    "        window_size=500,\n",
    "        sequence_length=20000000,\n",
    "):\n",
    "    # Intialize a dictionary with the start and stop position for each window.\n",
    "    windows = {}\n",
    "    index = 1\n",
    "    for window_start in range(0, int(sequence_length), int(window_size)):\n",
    "        windows[index] = [window_start, (window_start + window_size)]\n",
    "        index += 1\n",
    "    # Locate what window each variant is in.\n",
    "    # windows dictionary is now: window # (1-40,000) -> [start (0), stop (500)] with optional variant_index ]\n",
    "    index = 0\n",
    "    pos = variant_positions[index]\n",
    "    for key in windows:\n",
    "        start, stop = windows[key]\n",
    "        while start <= pos < stop:\n",
    "            windows[key].append(index)\n",
    "            index += 1\n",
    "            if index < len(variant_positions):\n",
    "                pos = variant_positions[index]\n",
    "            else:\n",
    "                break\n",
    "    return windows"
   ]
  },
  {
   "cell_type": "code",
   "execution_count": 3,
   "id": "171f6416-704a-4efb-84c3-e9b31de6bb76",
   "metadata": {},
   "outputs": [],
   "source": [
    "def calc_window_intro_percent(Binned_windows, true_introgression_positions):\n",
    "    Windows = Binned_windows\n",
    "    true_intro_pos = true_introgression_positions\n",
    "    \n",
    "    # Initializing dictionary of Window Introgression Percentages\n",
    "    Win_intro_percent = {}\n",
    "    # Extract the columns into numpy arrays and round.\n",
    "    # Sorting makes iterating easier. Not changing any start positions. intro_starts is 'official' starting position\n",
    "    intro_starts = np.sort(np.round(true_intro_pos[:, 0]))\n",
    "    intro_stops = np.sort(np.round(true_intro_pos[:, 1]))\n",
    "    intro_sizes = intro_stops - intro_starts\n",
    "    start_mods = intro_starts % 500\n",
    "    stop_mods = intro_stops % 500\n",
    "    start_windows = ((intro_starts - start_mods) / 500) + 1\n",
    "    stop_windows = ((intro_stops - stop_mods) / 500) + 1\n",
    "    \n",
    "    # Initialize all windows to 0% first\n",
    "    for key in Windows:\n",
    "        Win_intro_percent[key] = 0.\n",
    "    \n",
    "    # For each segment\n",
    "    for t in range(intro_sizes.shape[0]):\n",
    "        start_win = int(start_windows[t])\n",
    "        stop_win = int(stop_windows[t])\n",
    "        \n",
    "        # if segment within a single window\n",
    "        if start_win == stop_win:\n",
    "            Win_intro_percent[start_win] += intro_sizes[t] / 500\n",
    "        # if segment not in a single window\n",
    "        else:\n",
    "            # all fully introgressed segments\n",
    "            for f in range(start_win + 1, stop_win):\n",
    "                Win_intro_percent[f] = 1.\n",
    "            \n",
    "            # clean up starting window\n",
    "            Win_intro_percent[start_win] += (Windows[start_win][1] - intro_starts[t]) / 500\n",
    "            # clean up stopping window\n",
    "            if stop_win <= len(Windows):\n",
    "                Win_intro_percent[stop_win] += (intro_stops[t] - Windows[stop_win][0]) / 500\n",
    "            \n",
    "    return Win_intro_percent\n"
   ]
  },
  {
   "cell_type": "code",
   "execution_count": 75,
   "id": "1e31e5c2-85f9-45aa-9e24-76643df3bf82",
   "metadata": {},
   "outputs": [],
   "source": [
    "# Extracts the observed sequence (binned)\n",
    "def extract_O(variable_positions, polarized_genotype_matrix, true_introgression_positions, w_threshold, pattern, dxy):\n",
    "\n",
    "    # load the variant positions\n",
    "    var_pos = np.loadtxt(variable_positions, delimiter=',')\n",
    "    # Load the genotype matrix.\n",
    "    pol_geno_mat = np.loadtxt(polarized_genotype_matrix, dtype=int, delimiter=',')\n",
    "    # Load the introgressed region dataframe.\n",
    "    true_intro_pos = np.loadtxt(true_introgression_positions, delimiter=',')\n",
    "    # set the window threshold, or the proportion of consistent sites necessary to label C\n",
    "    window_threshold = float(w_threshold)\n",
    "    # Define what C, a pattern consistent with introgression, would look like.\n",
    "\n",
    "    # Indexed from 1 - 400\n",
    "    # Windows is of the format key -> value\n",
    "    # Window # (1-400) -> [Start position, stop position, (optional var_pos positions)]\n",
    "    Windows = genotype_matrix_windows(var_pos, pol_geno_mat, window_size=500, sequence_length=20_000_000)\n",
    "    Wip = calc_window_intro_percent(Windows, true_intro_pos)\n",
    "\n",
    "    # EXTRACTING OBSERVED SEQUENCE\n",
    "    # Intialize observed sequence.\n",
    "    obs_seq = []\n",
    "\n",
    "    \n",
    "        \n",
    "    # TODO: dxy\n",
    "    \n",
    "            \n",
    "    # TODO IF TIME: Make a little graph of the distribution of the number of variant sites per window\n",
    "    window_site_count = []\n",
    "    \n",
    "\n",
    "    # Iterate through all the windows by key.\n",
    "    for key in Windows:\n",
    "        # Extract the values for the window key.\n",
    "        window_vals = Windows[key]\n",
    "\n",
    "        \n",
    "        \n",
    "        # TODO\n",
    "        num_variants = len(np.asarray(window_vals[2:], dtype=np.int32))\n",
    "        window_site_count.append(num_variants)\n",
    "        \n",
    "        \n",
    "        # Typically Windows[key] starts with [start, stop, ...].\n",
    "        # If there are 1 or more variants then the length is greater than 2\n",
    "        if len(window_vals) > 2:\n",
    "            # Extract variable positions in that window. [2:] excludes start pos and end pos\n",
    "            variants = np.asarray(window_vals[2:], dtype=np.int32)\n",
    "            # Subset the genotype matrix for that window.\n",
    "            window_geno_mat = pol_geno_mat[variants, :]\n",
    "            # Keeping tally of consistent sites so we determine if the window is above threshold\n",
    "            c_sites_tally = 0\n",
    "            total_sites = len(window_vals)-2\n",
    "            \n",
    "            c_pattern_a = np.array([0, 0, 1, 1])\n",
    "            c_pattern_b = np.array([1, 1, 0, 0])\n",
    "            \n",
    "            # Checking all of the sites in a single window\n",
    "            for site in window_geno_mat:\n",
    "                if pattern == \"patterna\": #0011\n",
    "                    # If the C matrix is equal to the windowed matrix declare it consistent.\n",
    "                    if np.array_equal(c_pattern_a, site):\n",
    "                        c_sites_tally += 1\n",
    "                elif pattern == \"patternb\": #1100\n",
    "                    if np.array_equal(c_pattern_b, site):\n",
    "                        c_sites_tally += 1\n",
    "                elif pattern == \"patternc\": #0011 or 1100\n",
    "                    if np.array_equal(c_pattern_a, site) or np.array_equal(c_pattern_b, site):\n",
    "                        c_sites_tally += 1\n",
    "                else:\n",
    "                    print(\"ERROR: Invalid Pattern\")\n",
    "            \n",
    "            # Determines the window label\n",
    "            c_site_proportion = c_sites_tally / total_sites\n",
    "            if c_site_proportion >= window_threshold:\n",
    "                # print('C')\n",
    "                # print('C site proportion: ' + str(c_site_proportion*100) + '%')\n",
    "                obs_seq.append('C')\n",
    "                \n",
    "            else:\n",
    "                # print('N')\n",
    "                # print('C site proportion: ' + str(c_site_proportion*100) + '%')\n",
    "                obs_seq.append('N')\n",
    "                    \n",
    "            # print(window_geno_mat)\n",
    "            # print('---------------')\n",
    "\n",
    "        # If there are no variants in the window declare in non-consistent.\n",
    "        else:\n",
    "            # print('N')\n",
    "            obs_seq.append('N')\n",
    "\n",
    "\n",
    "    # Convert the observation sequence list to an array.\n",
    "    obs_seq_array = np.asarray(obs_seq)\n",
    "\n",
    "    \n",
    "    \n",
    "    total_consistent_windows = np.count_nonzero(obs_seq_array == 'C')\n",
    "    print('At a window threshold of {0},'.format(window_threshold))\n",
    "    print('there are {0} many consistent observations'.format(total_consistent_windows))\n",
    "    print('out of 40,000 windows, which means {0}% of windows are consistent'.format(100*total_consistent_windows/len(obs_seq_array)))\n",
    "\n",
    "    \n",
    "    \n",
    "    \n",
    "    return obs_seq_array, Wip, Windows, window_site_count, total_consistent_windows\n",
    "\n",
    "\n",
    "\n",
    "\n",
    "\n"
   ]
  },
  {
   "cell_type": "code",
   "execution_count": 76,
   "id": "4fd63f24-c17d-41be-ba68-53376f52c01b",
   "metadata": {},
   "outputs": [],
   "source": [
    "var_pos = './sim_data/rep_id_1_var_pos.csv.gz'\n",
    "geno_mat = './sim_data/rep_id_1_geno_mat.csv.gz'\n",
    "intro_pos = './sim_data/rep_id_1_intro_pos.csv.gz'\n",
    "window_threshold = 1.\n",
    "pattern = \"patternc\"\n",
    "dxy = False"
   ]
  },
  {
   "cell_type": "code",
   "execution_count": 77,
   "id": "4ed1cb06-250b-4ff4-8eb7-39397d133aa0",
   "metadata": {},
   "outputs": [
    {
     "name": "stdout",
     "output_type": "stream",
     "text": [
      "At a window threshold of 1.0,\n",
      "there are 1321 many consistent observations\n",
      "out of 40,000 windows, which means 3.3025% of windows are consistent\n"
     ]
    }
   ],
   "source": [
    "results = extract_O(var_pos, geno_mat, intro_pos, window_threshold, pattern, dxy)"
   ]
  },
  {
   "cell_type": "code",
   "execution_count": 78,
   "id": "c213ca68-d4af-403a-8f6e-81ce6a64a427",
   "metadata": {},
   "outputs": [
    {
     "data": {
      "image/png": "[encoded data removed]",
      "text/plain": [
       "<Figure size 936x648 with 1 Axes>"
      ]
     },
     "metadata": {
      "needs_background": "light"
     },
     "output_type": "display_data"
    }
   ],
   "source": [
    "# Extract window site count\n",
    "\n",
    "x = results[3]\n",
    "num_bins = 10\n",
    "n, bins, bars = plt.hist(x, num_bins, facecolor='blue', alpha=0.5, log=False)\n",
    "plt.rcParams[\"figure.figsize\"] = (13,9)\n",
    "plt.xlabel(\"# of variants sites in window\", fontsize = 20)\n",
    "plt.ylabel(\"# windows with this many variant sites\", fontsize = 20)\n",
    "plt.title = ('Distribution of variant site count number over all windows')\n",
    "plt.bar_label(bars, fontsize=15, color='navy')\n",
    "plt.margins(x=0.01, y=0.1)\n",
    "plt.show()"
   ]
  },
  {
   "cell_type": "code",
   "execution_count": 80,
   "id": "faac059d-3494-4538-90db-42e5e81a03e8",
   "metadata": {},
   "outputs": [
    {
     "name": "stdout",
     "output_type": "stream",
     "text": [
      "At a window threshold of 0.0,\n",
      "there are 21526 many consistent observations\n",
      "out of 40,000 windows, which means 53.815% of windows are consistent\n",
      "At a window threshold of 0.25,\n",
      "there are 2308 many consistent observations\n",
      "out of 40,000 windows, which means 5.77% of windows are consistent\n",
      "At a window threshold of 0.33,\n",
      "there are 2257 many consistent observations\n",
      "out of 40,000 windows, which means 5.6425% of windows are consistent\n",
      "At a window threshold of 0.5,\n",
      "there are 2053 many consistent observations\n",
      "out of 40,000 windows, which means 5.1325% of windows are consistent\n",
      "At a window threshold of 0.66,\n",
      "there are 1429 many consistent observations\n",
      "out of 40,000 windows, which means 3.5725% of windows are consistent\n",
      "At a window threshold of 0.75,\n",
      "there are 1342 many consistent observations\n",
      "out of 40,000 windows, which means 3.355% of windows are consistent\n",
      "At a window threshold of 1.0,\n",
      "there are 1321 many consistent observations\n",
      "out of 40,000 windows, which means 3.3025% of windows are consistent\n"
     ]
    },
    {
     "data": {
      "image/png": "[encoded data removed]",
      "text/plain": [
       "<Figure size 936x648 with 1 Axes>"
      ]
     },
     "metadata": {
      "needs_background": "light"
     },
     "output_type": "display_data"
    }
   ],
   "source": [
    "# Extract total consistent windows from each iteration of w_threshold\n",
    "x = []\n",
    "window_thresholds = [0., .25, .33, .5, .66, .75, 1.]\n",
    "for wt in window_thresholds:\n",
    "    # 4th index in results\n",
    "    x.append(round(100*extract_O(var_pos, geno_mat, intro_pos, wt, pattern, dxy)[4]/40_000, 2))\n",
    "\n",
    "bars = plt.bar(window_thresholds, x, width = 0.05, bottom=None, facecolor='blue', alpha =0.5, align='center', data=None)\n",
    "\n",
    "plt.rcParams[\"figure.figsize\"] = (13,9)\n",
    "plt.xlabel(\"Window threshold\", fontsize = 20)\n",
    "plt.xticks(window_thresholds, fontsize = 20)\n",
    "plt.ylabel(\"Percentage of consistent windows\", fontsize = 20)\n",
    "plt.title = ('How the percentage of consistent windows changes as you increase window threshold')\n",
    "plt.bar_label(bars, fontsize=15, color='navy')\n",
    "plt.margins(x=0.01, y=0.1)\n",
    "plt.show()"
   ]
  },
  {
   "cell_type": "code",
   "execution_count": null,
   "id": "65d75e31-ec25-408c-9a80-47061c0587e3",
   "metadata": {},
   "outputs": [],
   "source": []
  },
  {
   "cell_type": "code",
   "execution_count": null,
   "id": "be518e15-831c-4c3a-84eb-f3c6069c1856",
   "metadata": {},
   "outputs": [],
   "source": []
  }
 ],
 "metadata": {
  "kernelspec": {
   "display_name": "Python 3 (ipykernel)",
   "language": "python",
   "name": "python3"
  },
  "language_info": {
   "codemirror_mode": {
    "name": "ipython",
    "version": 3
   },
   "file_extension": ".py",
   "mimetype": "text/x-python",
   "name": "python",
   "nbconvert_exporter": "python",
   "pygments_lexer": "ipython3",
   "version": "3.9.10"
  }
 },
 "nbformat": 4,
 "nbformat_minor": 5
}
